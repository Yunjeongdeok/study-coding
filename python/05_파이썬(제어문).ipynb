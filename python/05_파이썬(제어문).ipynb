{
  "cells": [
    {
      "cell_type": "markdown",
      "metadata": {
        "id": "bg5ZXMV2sn1M"
      },
      "source": [
        "# 제어문(Control Statement)\n",
        "\n"
      ]
    },
    {
      "cell_type": "markdown",
      "metadata": {
        "id": "Lj_iZPKnCRP0"
      },
      "source": [
        "\n",
        "\n",
        "---\n",
        "\n"
      ]
    },
    {
      "cell_type": "markdown",
      "metadata": {
        "id": "zXbENjlMCrkU"
      },
      "source": [
        "## 조건문(Conditional Statement)\n",
        "\n",
        "- 조건에 따라 문장을 수행\n",
        "- 주어진 조건을 판단하고 상황에 맞는 처리가 필요할 때 사용\n",
        "- 파이썬에서 제공하는 조건문\n",
        "    - if\n",
        "    - else\n",
        "    - elif"
      ]
    },
    {
      "cell_type": "markdown",
      "metadata": {
        "id": "QerabWfwCvtt"
      },
      "source": [
        "### if 문\n"
      ]
    },
    {
      "cell_type": "markdown",
      "metadata": {
        "id": "UkYuDgdYjW1p"
      },
      "source": [
        "* if 문을 이용한 미세먼지 측정\n",
        "  + 미세먼지 농도 pm\n",
        "  + 35 초과는 미세먼지 농도 나쁨"
      ]
    },
    {
      "cell_type": "code",
      "execution_count": null,
      "metadata": {
        "colab": {
          "base_uri": "https://localhost:8080/"
        },
        "id": "22ALZ21LE60j",
        "outputId": "400fab2b-ea7c-4eb4-a92a-16e811045ea8"
      },
      "outputs": [
        {
          "name": "stdout",
          "output_type": "stream",
          "text": [
            "미세먼지 농도: 나쁨\n"
          ]
        }
      ],
      "source": [
        "pm = 40\n",
        "if pm > 35:\n",
        "    print('미세먼지 농도: 나쁨')"
      ]
    },
    {
      "cell_type": "markdown",
      "metadata": {
        "id": "of4Jq8l-McX7"
      },
      "source": [
        "### if-else 문\n"
      ]
    },
    {
      "cell_type": "markdown",
      "metadata": {
        "id": "KBi_DsHtkj5R"
      },
      "source": [
        "* if-else 문을 이용한 미세먼지 측정\n",
        "  + 미세먼지 농도 pm\n",
        "  + 36 이상은 미세먼지 농도 나쁨\n",
        "  + 35 이하는 미세먼지 농도 좋음"
      ]
    },
    {
      "cell_type": "code",
      "execution_count": null,
      "metadata": {
        "colab": {
          "base_uri": "https://localhost:8080/"
        },
        "id": "w4JB__zpL_BW",
        "outputId": "c02a8c1e-4a0a-4653-cc82-7c4af1bce5c8"
      },
      "outputs": [
        {
          "name": "stdout",
          "output_type": "stream",
          "text": [
            "미세먼지 농도: 좋음\n"
          ]
        }
      ],
      "source": [
        "pm = 40\n",
        "if pm > 36:\n",
        "    print('미세먼지 농도: 나쁨')\n",
        "else:\n",
        "    print('미세먼지 농도: 좋음')"
      ]
    },
    {
      "cell_type": "markdown",
      "metadata": {
        "id": "lcdJvb_vFiKf"
      },
      "source": [
        "### if-elif-else 문\n"
      ]
    },
    {
      "cell_type": "markdown",
      "metadata": {
        "id": "DV4n1qxhnFIV"
      },
      "source": [
        "* if-elif-else 문을 이용한 미세먼지 측정\n",
        "  + 미세먼지 농도 pm\n",
        "  + 미세먼지 농도 0~15: 좋음\n",
        "  + 미세먼지 농도 16~35: 보통\n",
        "  + 미세먼지 농도 36~75: 나쁨\n",
        "  + 미세먼지 농도 76~: 매우나쁨"
      ]
    },
    {
      "cell_type": "code",
      "execution_count": null,
      "metadata": {
        "colab": {
          "base_uri": "https://localhost:8080/"
        },
        "id": "xlo8NoTeF0dV",
        "outputId": "f2c70473-59a2-4fb5-addc-1addb7ffe898"
      },
      "outputs": [
        {
          "name": "stdout",
          "output_type": "stream",
          "text": [
            "미세먼지 농도: 나쁨\n"
          ]
        }
      ],
      "source": [
        "pm = 40\n",
        "if pm < 16:\n",
        "    print('미세먼지 농도: 좋음')\n",
        "elif pm < 36:\n",
        "    print('미세먼지 농도: 보통')\n",
        "elif pm < 76:\n",
        "    print(\"미세먼지 농도: 나쁨\")\n",
        "else:\n",
        "    print('미세먼지 농도: 매우 나쁨')"
      ]
    },
    {
      "cell_type": "markdown",
      "metadata": {
        "id": "PdkLJlqioT_b"
      },
      "source": [
        "### 중첩 if 문\n",
        "\n",
        "\n"
      ]
    },
    {
      "cell_type": "markdown",
      "metadata": {
        "id": "8JdYeATzowCy"
      },
      "source": [
        "* 중첩 if 문을 이용한 미세먼지 측정\n",
        "  + 미세먼지 농도 pm\n",
        "  + 미세먼지 농도 0~15: 좋음\n",
        "  + 미세먼지 농도 16~35: 보통\n",
        "  + 미세먼지 농도 36~75: 나쁨\n",
        "  + 미세먼지 농도 76~: 매우나쁨"
      ]
    },
    {
      "cell_type": "code",
      "execution_count": null,
      "metadata": {
        "colab": {
          "base_uri": "https://localhost:8080/"
        },
        "id": "ZuYX5TCro3B9",
        "outputId": "69e04ead-e53f-475b-c7b9-6c71758b9015"
      },
      "outputs": [
        {
          "name": "stdout",
          "output_type": "stream",
          "text": [
            "미세먼지 농도: 매우 나쁨\n"
          ]
        }
      ],
      "source": [
        "pm = 80\n",
        "if pm < 36:\n",
        "    if pm < 16:\n",
        "        print('미세먼지 농도: 좋음')\n",
        "    else:\n",
        "        print('미세먼지 농도: 보통')\n",
        "else:\n",
        "    if pm < 76:\n",
        "        print('미세먼지 농도: 나쁨')\n",
        "    else:\n",
        "        print('미세먼지 농도: 매우 나쁨')"
      ]
    },
    {
      "cell_type": "markdown",
      "metadata": {
        "id": "sB6Li0FmU9eM"
      },
      "source": [
        "### if-pass 문\n",
        "\n",
        "* 조건문은 있지만 실행할 문장이 없는 경우, 오류가 발생하지 않도록 무시하고 넘어가는 기능"
      ]
    },
    {
      "cell_type": "code",
      "execution_count": null,
      "metadata": {
        "colab": {
          "base_uri": "https://localhost:8080/"
        },
        "id": "iIOjo8LEVPqy",
        "outputId": "fca9a5e5-279c-4881-9ba2-9b5772719847"
      },
      "outputs": [
        {
          "name": "stdout",
          "output_type": "stream",
          "text": [
            "10\n"
          ]
        }
      ],
      "source": [
        "if 10 > 5:\n",
        "    print(10)\n",
        "else:\n",
        "    pass"
      ]
    },
    {
      "cell_type": "markdown",
      "metadata": {
        "id": "ERFC5XXnqTab"
      },
      "source": [
        "### if 조건 연산자\n",
        "\n",
        "* 비교연산자: <, >, ==, !=, >=, <=\n"
      ]
    },
    {
      "cell_type": "code",
      "execution_count": null,
      "metadata": {
        "colab": {
          "base_uri": "https://localhost:8080/"
        },
        "id": "oON1NgdYvSVj",
        "outputId": "fa249fd2-2a90-4dfc-91f2-66e8addbf62d"
      },
      "outputs": [
        {
          "name": "stdout",
          "output_type": "stream",
          "text": [
            "2\n",
            "3\n",
            "1\n"
          ]
        }
      ],
      "source": [
        "if 2 > 1:\n",
        "    print(2)\n",
        "\n",
        "if 3 == 3:\n",
        "    print(3)\n",
        "\n",
        "if 1 != 2:\n",
        "    print(1)\n"
      ]
    },
    {
      "cell_type": "markdown",
      "metadata": {
        "id": "tsZNODf8vMdM"
      },
      "source": [
        "* 논리연산자: and, or, not"
      ]
    },
    {
      "cell_type": "code",
      "execution_count": null,
      "metadata": {
        "colab": {
          "base_uri": "https://localhost:8080/"
        },
        "id": "xbhbbC_urU5t",
        "outputId": "2dd34c3b-16b4-499c-898d-86d968e550f5"
      },
      "outputs": [
        {
          "name": "stdout",
          "output_type": "stream",
          "text": [
            "진눈깨비\n",
            "흐림\n"
          ]
        }
      ],
      "source": [
        "rain = True\n",
        "snow = True\n",
        "sun = False\n",
        "\n",
        "if rain and snow:\n",
        "    print('진눈깨비')\n",
        "\n",
        "if not sun:\n",
        "    print('흐림')\n",
        "else:\n",
        "    print('맑음')"
      ]
    },
    {
      "cell_type": "markdown",
      "metadata": {
        "id": "neifpa1BvNya"
      },
      "source": [
        "* 멤버연산자: in, not in\n"
      ]
    },
    {
      "cell_type": "code",
      "execution_count": null,
      "metadata": {
        "colab": {
          "base_uri": "https://localhost:8080/"
        },
        "id": "WWu4uaX5rcTb",
        "outputId": "9c5e5893-d6c3-4385-f7a6-8e44f4728abc"
      },
      "outputs": [
        {
          "name": "stdout",
          "output_type": "stream",
          "text": [
            "one\n",
            "No\n"
          ]
        }
      ],
      "source": [
        "list = ['one', 'two','three']\n",
        "\n",
        "if 'one' in list:\n",
        "    print('one')\n",
        "\n",
        "if 'four' not in list:\n",
        "    print('No')"
      ]
    },
    {
      "cell_type": "markdown",
      "metadata": {
        "id": "0V1ky9ZMucnL"
      },
      "source": [
        "* 식별연산자: is, is not"
      ]
    },
    {
      "cell_type": "code",
      "execution_count": null,
      "metadata": {
        "colab": {
          "base_uri": "https://localhost:8080/"
        },
        "id": "puETQb28t3ua",
        "outputId": "f30d46fd-e7e9-4788-9484-73cc23791216"
      },
      "outputs": [
        {
          "name": "stdout",
          "output_type": "stream",
          "text": [
            "one\n",
            "one is not two\n"
          ]
        }
      ],
      "source": [
        "if 'one' is 'one':\n",
        "    print('one')\n",
        "\n",
        "if 'one' is not 'two':\n",
        "    print('one is not two')"
      ]
    },
    {
      "cell_type": "markdown",
      "metadata": {
        "id": "9iV-FsBWzZ0k"
      },
      "source": [
        "### 조건부 표현식(Conditional Expression)\n",
        "\n",
        "* 한 라인으로 조건식을 사용한 표현"
      ]
    },
    {
      "cell_type": "code",
      "execution_count": null,
      "metadata": {
        "colab": {
          "base_uri": "https://localhost:8080/"
        },
        "id": "_oS5aQybzfxw",
        "outputId": "38b70aa4-826b-4f99-c6f6-91a09895a8bb"
      },
      "outputs": [
        {
          "name": "stdout",
          "output_type": "stream",
          "text": [
            "통과\n"
          ]
        }
      ],
      "source": [
        "score = 75\n",
        "msg = '통과' if score >= 70 else '탈락'\n",
        "print(msg)"
      ]
    },
    {
      "cell_type": "markdown",
      "metadata": {
        "id": "iaXO0nIe4IsM"
      },
      "source": [
        "### [Lab] 학생 종류\n",
        "\n",
        "* 8세 미만 \"학생 아님\"\n",
        "* 14세 미만 \"초등학생\"\n",
        "* 17세 미만 \"중학생\"\n",
        "* 20세 미만 \"고등학생\"\n",
        "* 26세 미만 \"대학생\"\n",
        "* 그 외에 \"학생 아님\""
      ]
    },
    {
      "cell_type": "code",
      "execution_count": 4,
      "metadata": {
        "colab": {
          "base_uri": "https://localhost:8080/"
        },
        "id": "tiSoSbvB4yZa",
        "outputId": "8e25d879-bc2e-4a7a-e07e-389466249197"
      },
      "outputs": [
        {
          "name": "stdout",
          "output_type": "stream",
          "text": [
            "대학생\n"
          ]
        }
      ],
      "source": [
        "age = 22\n",
        "if age < 8:,\n",
        "    print('학생 아님')\n",
        "elif age < 14:\n",
        "    print('초등학생')\n",
        "elif age < 17:\n",
        "    print('중학생')\n",
        "elif age < 20:\n",
        "    print('고등학생')\n",
        "elif age < 26:\n",
        "    print('대학생')\n",
        "else:\n",
        "    print('학생 아님')"
      ]
    },
    {
      "cell_type": "markdown",
      "metadata": {
        "id": "Xaqknnv_5weC"
      },
      "source": [
        "### [Lab] 학점 계산\n",
        "\n",
        "* 95점 이상 \"A+\"\n",
        "* 90점 이상 \"A\"\n",
        "* 85점 이상 \"B+\"\n",
        "* 80점 이상 \"B\"\n",
        "* 75점 이상 \"C+\"\n",
        "* 70점 이상 \"C\"\n",
        "* 65점 이상 \"D+\"\n",
        "* 60점 이상 \"D\"\n",
        "* 그 외 \"F\""
      ]
    },
    {
      "cell_type": "code",
      "execution_count": null,
      "metadata": {
        "colab": {
          "base_uri": "https://localhost:8080/"
        },
        "id": "4fn4sB6a6BUL",
        "outputId": "27423284-6647-4ef9-fc25-3c62148ef269"
      },
      "outputs": [
        {
          "name": "stdout",
          "output_type": "stream",
          "text": [
            "A+\n"
          ]
        }
      ],
      "source": [
        "score = 95\n",
        "if score >= 95:\n",
        "    print('A+')\n",
        "elif score >=90:\n",
        "    print('A')\n",
        "elif score >= 85:\n",
        "    print('B+')\n",
        "elif score >= 80:\n",
        "    print('B')\n",
        "elif score >= 75:\n",
        "    print('C+')\n",
        "elif score >= 70:\n",
        "    print('C')\n",
        "elif score >= 65:\n",
        "    print('D+')\n",
        "elif score >= 60:\n",
        "    print('D')\n",
        "else:\n",
        "    print('F')"
      ]
    },
    {
      "cell_type": "markdown",
      "metadata": {
        "id": "0BWIlqrPCr__"
      },
      "source": [
        "\n",
        "\n",
        "---\n",
        "\n"
      ]
    },
    {
      "cell_type": "markdown",
      "metadata": {
        "id": "ZfKg8LniN113"
      },
      "source": [
        "## 반복문(Repetitive Statement)\n",
        "- 문장을 반복적으로 수행\n",
        "- 정해진 동작을 반복하여 처리할 때 사용\n",
        "- 파이썬에서 제공하는 반복문\n",
        "    - while\n",
        "    - for"
      ]
    },
    {
      "cell_type": "markdown",
      "metadata": {
        "id": "tsxOiKAD7Lfw"
      },
      "source": [
        "### while 문\n",
        "- 어떤 조건이 만족하는 동안 문장을 수행하고 만족하지 않는 경우 수행 중단\n",
        "- while 문 기본 문법"
      ]
    },
    {
      "cell_type": "markdown",
      "metadata": {
        "id": "q9SCeICMB32o"
      },
      "source": [
        "* while 문 예제: 1부터 10까지 반복"
      ]
    },
    {
      "cell_type": "code",
      "execution_count": null,
      "metadata": {
        "colab": {
          "base_uri": "https://localhost:8080/"
        },
        "id": "zjBqbHUhPjUX",
        "outputId": "be981c85-57fe-4456-f975-6a49f82b7e98"
      },
      "outputs": [
        {
          "name": "stdout",
          "output_type": "stream",
          "text": [
            "1\n",
            "2\n",
            "3\n",
            "4\n",
            "5\n",
            "6\n",
            "7\n",
            "8\n",
            "9\n",
            "10\n"
          ]
        }
      ],
      "source": [
        "i = 1\n",
        "while i <= 10:\n",
        "    print(i)\n",
        "    i += 1"
      ]
    },
    {
      "cell_type": "markdown",
      "metadata": {
        "id": "GWKxC-EyB-ou"
      },
      "source": [
        "* while 문 예제: 1부터 10까지 더하기"
      ]
    },
    {
      "cell_type": "code",
      "execution_count": null,
      "metadata": {
        "colab": {
          "base_uri": "https://localhost:8080/"
        },
        "id": "KamhbhLtBjyu",
        "outputId": "5ff6c79e-65ca-493d-c430-37440c7cbe47"
      },
      "outputs": [
        {
          "name": "stdout",
          "output_type": "stream",
          "text": [
            "55\n"
          ]
        }
      ],
      "source": [
        "i = 1\n",
        "sum = 0\n",
        "while i <= 10:\n",
        "    sum += i\n",
        "    i += 1\n",
        "\n",
        "print(sum)"
      ]
    },
    {
      "cell_type": "markdown",
      "metadata": {
        "id": "fE4el4w8CVnn"
      },
      "source": [
        "### for 문\n",
        "- 반복 범위를 지정하여 반복 수행:\n",
        "- for 문 기본 문법\n",
        "    - for 변수 in 리스트, 튜플, 문자열:\n",
        "        - <문장>"
      ]
    },
    {
      "cell_type": "markdown",
      "metadata": {
        "id": "Szg_RE0dDVUI"
      },
      "source": [
        "* 리스트 요소 반복"
      ]
    },
    {
      "cell_type": "code",
      "execution_count": null,
      "metadata": {
        "colab": {
          "base_uri": "https://localhost:8080/"
        },
        "id": "q-6XmZ7pCKfu",
        "outputId": "ec0c7808-fd33-498b-c935-6e524cff31b8"
      },
      "outputs": [
        {
          "name": "stdout",
          "output_type": "stream",
          "text": [
            "one\n",
            "two\n",
            "three\n"
          ]
        }
      ],
      "source": [
        "list = ['one', 'two', 'three']\n",
        "for i in list:\n",
        "    print(i)"
      ]
    },
    {
      "cell_type": "markdown",
      "metadata": {
        "id": "Jxy-YCKaJy6U"
      },
      "source": [
        "* 튜플 요소 반복"
      ]
    },
    {
      "cell_type": "code",
      "execution_count": null,
      "metadata": {
        "colab": {
          "base_uri": "https://localhost:8080/"
        },
        "id": "bPTK1Da9DifT",
        "outputId": "d75ed294-f7b4-4a03-fe8a-28c1dfadddb6"
      },
      "outputs": [
        {
          "name": "stdout",
          "output_type": "stream",
          "text": [
            "one\n",
            "two\n",
            "three\n"
          ]
        }
      ],
      "source": [
        "tuple = ('one', 'two', 'three')\n",
        "for i in tuple:\n",
        "    print(i)"
      ]
    },
    {
      "cell_type": "markdown",
      "metadata": {
        "id": "-a5BBmWHJ08e"
      },
      "source": [
        "* 문자열 요소 반복"
      ]
    },
    {
      "cell_type": "code",
      "execution_count": null,
      "metadata": {
        "colab": {
          "base_uri": "https://localhost:8080/"
        },
        "id": "sg2jzObGDk5u",
        "outputId": "0210754a-a916-4177-c2ff-8c8c8ba5838b"
      },
      "outputs": [
        {
          "name": "stdout",
          "output_type": "stream",
          "text": [
            "Y\n",
            "e\n",
            "s\n",
            " \n",
            "i\n",
            " \n",
            "c\n",
            "a\n",
            "n\n",
            "!\n"
          ]
        }
      ],
      "source": [
        "string = 'Yes i can!'\n",
        "for i in string:\n",
        "    print(i)"
      ]
    },
    {
      "cell_type": "markdown",
      "metadata": {
        "id": "6bel7wU6EFp4"
      },
      "source": [
        "#### range()\n"
      ]
    },
    {
      "cell_type": "code",
      "execution_count": null,
      "metadata": {
        "colab": {
          "base_uri": "https://localhost:8080/"
        },
        "id": "sIV6ouO3D1Pj",
        "outputId": "d707c828-e39b-44e8-b923-ebdd703b529b"
      },
      "outputs": [
        {
          "name": "stdout",
          "output_type": "stream",
          "text": [
            "5050\n"
          ]
        }
      ],
      "source": [
        "sum = 0\n",
        "for i in range(101):\n",
        "    sum += i\n",
        "\n",
        "print(sum)"
      ]
    },
    {
      "cell_type": "code",
      "execution_count": null,
      "metadata": {
        "colab": {
          "base_uri": "https://localhost:8080/"
        },
        "id": "VtCQOfDpGG59",
        "outputId": "da8ccea1-d568-498f-9951-b5e5ba1f238a"
      },
      "outputs": [
        {
          "name": "stdout",
          "output_type": "stream",
          "text": [
            "1\n",
            "3\n",
            "5\n",
            "7\n",
            "9\n"
          ]
        }
      ],
      "source": [
        "for i in range(1, 10, 2):\n",
        "    print(i)"
      ]
    },
    {
      "cell_type": "markdown",
      "metadata": {
        "id": "1otcwtcWGU-Z"
      },
      "source": [
        "* 범위 반복 range를 이용한 구구단"
      ]
    },
    {
      "cell_type": "code",
      "execution_count": null,
      "metadata": {
        "colab": {
          "base_uri": "https://localhost:8080/"
        },
        "id": "0AgNJV5LGJLf",
        "outputId": "8632bc0f-ec2a-4880-8fe1-95376eb44d80"
      },
      "outputs": [
        {
          "name": "stdout",
          "output_type": "stream",
          "text": [
            "2 x 1 = 2\n",
            "2 x 2 = 4\n",
            "2 x 3 = 6\n",
            "2 x 4 = 8\n",
            "2 x 5 = 10\n",
            "2 x 6 = 12\n",
            "2 x 7 = 14\n",
            "2 x 8 = 16\n",
            "2 x 9 = 18\n",
            "3 x 1 = 3\n",
            "3 x 2 = 6\n",
            "3 x 3 = 9\n",
            "3 x 4 = 12\n",
            "3 x 5 = 15\n",
            "3 x 6 = 18\n",
            "3 x 7 = 21\n",
            "3 x 8 = 24\n",
            "3 x 9 = 27\n",
            "4 x 1 = 4\n",
            "4 x 2 = 8\n",
            "4 x 3 = 12\n",
            "4 x 4 = 16\n",
            "4 x 5 = 20\n",
            "4 x 6 = 24\n",
            "4 x 7 = 28\n",
            "4 x 8 = 32\n",
            "4 x 9 = 36\n",
            "5 x 1 = 5\n",
            "5 x 2 = 10\n",
            "5 x 3 = 15\n",
            "5 x 4 = 20\n",
            "5 x 5 = 25\n",
            "5 x 6 = 30\n",
            "5 x 7 = 35\n",
            "5 x 8 = 40\n",
            "5 x 9 = 45\n",
            "6 x 1 = 6\n",
            "6 x 2 = 12\n",
            "6 x 3 = 18\n",
            "6 x 4 = 24\n",
            "6 x 5 = 30\n",
            "6 x 6 = 36\n",
            "6 x 7 = 42\n",
            "6 x 8 = 48\n",
            "6 x 9 = 54\n",
            "7 x 1 = 7\n",
            "7 x 2 = 14\n",
            "7 x 3 = 21\n",
            "7 x 4 = 28\n",
            "7 x 5 = 35\n",
            "7 x 6 = 42\n",
            "7 x 7 = 49\n",
            "7 x 8 = 56\n",
            "7 x 9 = 63\n",
            "8 x 1 = 8\n",
            "8 x 2 = 16\n",
            "8 x 3 = 24\n",
            "8 x 4 = 32\n",
            "8 x 5 = 40\n",
            "8 x 6 = 48\n",
            "8 x 7 = 56\n",
            "8 x 8 = 64\n",
            "8 x 9 = 72\n",
            "9 x 1 = 9\n",
            "9 x 2 = 18\n",
            "9 x 3 = 27\n",
            "9 x 4 = 36\n",
            "9 x 5 = 45\n",
            "9 x 6 = 54\n",
            "9 x 7 = 63\n",
            "9 x 8 = 72\n",
            "9 x 9 = 81\n"
          ]
        }
      ],
      "source": [
        "for i in range(2,10):\n",
        "    for j in range(1,10):\n",
        "        print(('{} x {} = {}'.format(i, j, i * j)))"
      ]
    },
    {
      "cell_type": "markdown",
      "metadata": {
        "id": "y9DVAjy0r5Ty"
      },
      "source": [
        "#### _ 기능\n",
        "- for문을 사용하면서 iterator 역할을 위해서 i 변수가 필요\n",
        "- for문 이후에는 iterator 변수 i가 필요하지 않음\n",
        "- 이후에 사용되지 않을 변수에 어떤 이름을 부여하고 싶지 않을 때 _를 사용"
      ]
    },
    {
      "cell_type": "code",
      "execution_count": null,
      "metadata": {
        "colab": {
          "base_uri": "https://localhost:8080/"
        },
        "id": "qv8HZNCTsDFf",
        "outputId": "6b5e3a4c-81fd-4b4f-88a7-731f3aa0c5e3"
      },
      "outputs": [
        {
          "name": "stdout",
          "output_type": "stream",
          "text": [
            "Yes i can!\n",
            "Yes i can!\n",
            "Yes i can!\n",
            "Yes i can!\n",
            "Yes i can!\n"
          ]
        }
      ],
      "source": [
        "for _ in range(5):\n",
        "    print('Yes i can!')"
      ]
    },
    {
      "cell_type": "code",
      "execution_count": null,
      "metadata": {
        "colab": {
          "base_uri": "https://localhost:8080/"
        },
        "id": "pf8fIpSBsHZL",
        "outputId": "568e0726-4457-4086-eabf-67f651139dd8"
      },
      "outputs": [
        {
          "name": "stdout",
          "output_type": "stream",
          "text": [
            "Yes i can!\n",
            "Yes i can!\n",
            "Yes i can!\n",
            "Yes i can!\n",
            "Yes i can!\n"
          ]
        }
      ],
      "source": [
        "for i in range(5):\n",
        "    print('Yes i can!')"
      ]
    },
    {
      "cell_type": "markdown",
      "metadata": {
        "id": "-t7UubcSKJHY"
      },
      "source": [
        "### else 문\n",
        "\n",
        "* 반복이 종료된 후에 한번 더 실행되는 문장"
      ]
    },
    {
      "cell_type": "code",
      "execution_count": null,
      "metadata": {
        "colab": {
          "base_uri": "https://localhost:8080/"
        },
        "id": "clXMvxeyMFj_",
        "outputId": "15faf9c8-9945-4586-f1de-3d3712d4e265"
      },
      "outputs": [
        {
          "name": "stdout",
          "output_type": "stream",
          "text": [
            "55\n"
          ]
        }
      ],
      "source": [
        "i = 1\n",
        "sum = 0\n",
        "while i <= 10:\n",
        "    sum += i\n",
        "    i += 1\n",
        "else:\n",
        "    print(sum)"
      ]
    },
    {
      "cell_type": "code",
      "execution_count": null,
      "metadata": {
        "colab": {
          "base_uri": "https://localhost:8080/"
        },
        "id": "4B6-nPWEGjvG",
        "outputId": "5937f8b9-7607-4ea1-aba1-d589e292e4fa"
      },
      "outputs": [
        {
          "name": "stdout",
          "output_type": "stream",
          "text": [
            "55\n"
          ]
        }
      ],
      "source": [
        "sum = 0\n",
        "for i in range(11):\n",
        "    sum += i\n",
        "else:\n",
        "    print(sum)"
      ]
    },
    {
      "cell_type": "markdown",
      "metadata": {
        "id": "BlF9QvR5LTar"
      },
      "source": [
        "### break 문\n",
        "\n",
        "* 반복문 종료"
      ]
    },
    {
      "cell_type": "code",
      "execution_count": null,
      "metadata": {
        "colab": {
          "base_uri": "https://localhost:8080/"
        },
        "id": "u0HvxKWvKSou",
        "outputId": "03639fad-7f13-4b8d-e92c-64c7761c22ae"
      },
      "outputs": [
        {
          "name": "stdout",
          "output_type": "stream",
          "text": [
            "0\n",
            "1\n",
            "2\n",
            "3\n",
            "4\n",
            "5\n",
            "6\n",
            "7\n",
            "8\n",
            "9\n",
            "10\n"
          ]
        }
      ],
      "source": [
        "i = 0\n",
        "while i < 100:\n",
        "    print(i)\n",
        "    if i == 10:\n",
        "        break\n",
        "    i += 1"
      ]
    },
    {
      "cell_type": "code",
      "execution_count": null,
      "metadata": {
        "colab": {
          "base_uri": "https://localhost:8080/"
        },
        "id": "TJyNX_deMUvq",
        "outputId": "a30bee65-c4f8-4554-8573-c7efa2dd1671"
      },
      "outputs": [
        {
          "name": "stdout",
          "output_type": "stream",
          "text": [
            "0\n",
            "1\n",
            "2\n",
            "3\n",
            "4\n",
            "5\n",
            "6\n",
            "7\n",
            "8\n",
            "9\n",
            "10\n"
          ]
        }
      ],
      "source": [
        "for i in range(100):\n",
        "    print(i)\n",
        "    if i == 10:\n",
        "        break"
      ]
    },
    {
      "cell_type": "markdown",
      "metadata": {
        "id": "m7jZ8oc8Mezu"
      },
      "source": [
        "### continue 문\n",
        "\n",
        "* 반복 조건문으로 이동"
      ]
    },
    {
      "cell_type": "code",
      "execution_count": null,
      "metadata": {
        "colab": {
          "base_uri": "https://localhost:8080/"
        },
        "id": "MpTJ5WtPMbYm",
        "outputId": "621ae09f-c63b-4773-a004-c5f2cd8d8ccd"
      },
      "outputs": [
        {
          "name": "stdout",
          "output_type": "stream",
          "text": [
            "1\n",
            "3\n",
            "5\n",
            "7\n",
            "9\n"
          ]
        }
      ],
      "source": [
        "i =0\n",
        "while i < 10:\n",
        "    i += 1\n",
        "    if i % 2 == 0:\n",
        "        continue\n",
        "    print(i)"
      ]
    },
    {
      "cell_type": "code",
      "execution_count": null,
      "metadata": {
        "colab": {
          "base_uri": "https://localhost:8080/"
        },
        "id": "2oWKM2NDMqJ4",
        "outputId": "3130d834-f62d-4d7f-841b-6fe0074e7107"
      },
      "outputs": [
        {
          "name": "stdout",
          "output_type": "stream",
          "text": [
            "1\n",
            "3\n",
            "5\n",
            "7\n",
            "9\n"
          ]
        }
      ],
      "source": [
        "for i in range(10):\n",
        "    if i % 2 == 0:\n",
        "        continue\n",
        "    print(i)"
      ]
    },
    {
      "cell_type": "markdown",
      "metadata": {
        "id": "qQoq1VqQMxdR"
      },
      "source": [
        "### 리스트 내포(List Comprehension)\n",
        "\n",
        "* 리스트 안에 for 문과 if 문 사용"
      ]
    },
    {
      "cell_type": "code",
      "execution_count": 1,
      "metadata": {
        "colab": {
          "base_uri": "https://localhost:8080/"
        },
        "id": "dYS40UmTMuHf",
        "outputId": "d51decf9-64ab-4370-98bd-9b791c6de135"
      },
      "outputs": [
        {
          "name": "stdout",
          "output_type": "stream",
          "text": [
            "[1, 2, 3, 4, 5]\n",
            "[2, 4, 6, 8, 10]\n",
            "[0, 1, 2, 3, 4, 5, 6, 7, 8, 9]\n",
            "[0, 4, 8, 12, 16]\n"
          ]
        }
      ],
      "source": [
        "list = [1,2,3,4,5]\n",
        "print([i for i in list])\n",
        "print([i * 2 for i in list])\n",
        "print([i for i in range(10)])\n",
        "print([i * 2 for i in range(10) if i % 2 == 0])\n"
      ]
    },
    {
      "cell_type": "markdown",
      "metadata": {
        "id": "BNJU3Dz8NEtW"
      },
      "source": [
        "### [Lab] 문자열 반전\n",
        "\n",
        "* 문자열을 역순으로 만들기"
      ]
    },
    {
      "cell_type": "code",
      "execution_count": null,
      "metadata": {
        "colab": {
          "base_uri": "https://localhost:8080/"
        },
        "id": "vtOOAlwBM7Ls",
        "outputId": "050223fd-e281-4dbd-a7a9-fa87000dc5f3"
      },
      "outputs": [
        {
          "name": "stdout",
          "output_type": "stream",
          "text": [
            "YesIcan\n",
            "nacIseY\n"
          ]
        }
      ],
      "source": [
        "string = 'YesIcan'\n",
        "reverse = \"\"\n",
        "for c in string:\n",
        "    reverse = c + reverse\n",
        "\n",
        "print(string)\n",
        "print(reverse)"
      ]
    },
    {
      "cell_type": "markdown",
      "metadata": {
        "id": "e-5QZsGNXsrz"
      },
      "source": [
        "\n",
        "\n",
        "---\n",
        "\n"
      ]
    },
    {
      "cell_type": "markdown",
      "metadata": {
        "id": "9ygGlaKjKZRs"
      },
      "source": [
        "## 에러와 예외(Errors and Exceptions)\n",
        "\n",
        "* 프로그램에서는 에러가 발생\n",
        "* 에러에 대한 예외 처리가 필요\n",
        "\n",
        "|||\n",
        "|---|---|\n",
        "|AsesertionError|assert문이 실패할 때 발생\n",
        "|AttributeError|속성에 참조가 대입이 실패할 때 발생\n",
        "|EOFError| EOF(End Of File)조건을 만날 때 발생\n",
        "|ImportError|import 문이 모듈 로드에 문제가 있을 때 발생\n",
        "|ModuleNotFoundError|import할 모듈을 찾을 수 없을 때 발생\n",
        "|IndexError|시퀀스 인덱스가 범위를 벗어날 때 발생\n",
        "|KeyError|딕셔너리 키가 키 집합에서 발견되지 않을 때 발생\n",
        "|KeyboardInterrupt|사용자가 인터럽트 키(Ctrl + C 또는 Delete)를 누를 때 발생\n",
        "|MemoryError|작업에 메모리가 부족하지만, 일부 객체를 삭제해서 복구될 수 없는 경우 발생\n",
        "|NameError|지역 또는 전역 이름을 찾을 수 없을 때 발생\n",
        "|NotImplementedError|RuntimeError에서 내용이없는 메소드 호출 시 발생\n",
        "|OSError|운영체제제에서서 에러가가 있을을 경우우 발생\n",
        "|OverflowError|산술술 연산의 결과가 너무 커서 표현할 수 없을 때 발생\n",
        "|RuntimeError|다른 범주에 속하지 않는 에러가 감지될 때 발생\n",
        "|SyntaxError|문법 오류가 발견될 때 발생\n",
        "|IndentationError|잘못된 들여쓰기와 관련된 문법 오류가 있을 때 발생\n",
        "|TabError|들여쓰기가 일관성 없이 탭과 스페이스를 사용하는 경우 발생\n",
        "|SystemError|인터프리터 내부에서 에러가 발견될 때 발생\n",
        "|SystemExit|`sys.exit()`함수가 호출될 떄 발생\n",
        "|TypeError|연산이나 함수가 부적절한 형의 객체에 적용될 때 발생\n",
        "|UnboundLocalError|함수나 메소드에서 지역변수를 참조하지만, 해당 변수에 값이 연결되지 않으면 발생\n",
        "|UnicodeError| 유니코드 관련 인코딩/디코딩에러가 일어날 때 발생\n",
        "|ValueError|연산이나 함수가 올바른 자료형이지만 부적절한 값을 가진 인자를 받았을 때 발생\n",
        "|ZeroDivisionError|0으로 다른 숫자를 나누는 경우에 발생\n",
        "|FileExistsError|이미 존재하는 파일이나 디렉토리를 만들려고 할 때 발생\n",
        "|FileNotFoundErrror|파일이나 디렉토리가 요청되었지만 존재하지 않을 때 발생\n",
        "|InterruptedError|시스템 호룰이 들어오는 시그널에 의해 중단될 대 발생\n",
        "|IsADirectoryError|디렉토리에 파일 연산이 요청되었을 때 발생\n",
        "|PermissionError|적절한 접근권 없이 연산을 실행할려고 할 때 발생\n",
        "|ProcessLokupError|주어진 프로세스가 존재하지 않을 때 발생\n",
        "|timeoutError|시스템함수가 시스템수준에서 시간이 초과될 때 발생\n",
        "|Warinig|오류는 아니고 주의가 필요한 경고 시 발생"
      ]
    },
    {
      "cell_type": "markdown",
      "metadata": {
        "id": "Sem87gmsXux8"
      },
      "source": [
        "### 에러 예제\n",
        "\n",
        "* ZeroDivisionError"
      ]
    },
    {
      "cell_type": "code",
      "execution_count": null,
      "metadata": {
        "id": "nea-tg6gNSQB"
      },
      "outputs": [
        {
          "ename": "ZeroDivisionError",
          "evalue": "division by zero",
          "output_type": "error",
          "traceback": [
            "\u001b[0;31m---------------------------------------------------------------------------\u001b[0m",
            "\u001b[0;31mZeroDivisionError\u001b[0m                         Traceback (most recent call last)",
            "\u001b[1;32m/Users/yun/Project/study/05_파이썬(제어문).ipynb 셀 70\u001b[0m in \u001b[0;36m<cell line: 1>\u001b[0;34m()\u001b[0m\n\u001b[0;32m----> <a href='vscode-notebook-cell:/Users/yun/Project/study/05_%ED%8C%8C%EC%9D%B4%EC%8D%AC%28%EC%A0%9C%EC%96%B4%EB%AC%B8%29.ipynb#Y126sZmlsZQ%3D%3D?line=0'>1</a>\u001b[0m \u001b[39m10\u001b[39;49m \u001b[39m/\u001b[39;49m \u001b[39m0\u001b[39;49m\n",
            "\u001b[0;31mZeroDivisionError\u001b[0m: division by zero"
          ]
        }
      ],
      "source": [
        "# 10 / 0"
      ]
    },
    {
      "cell_type": "markdown",
      "metadata": {
        "id": "5Ape-cL37GWg"
      },
      "source": [
        "* NameError"
      ]
    },
    {
      "cell_type": "code",
      "execution_count": null,
      "metadata": {
        "id": "rX3x3eE_6zcJ"
      },
      "outputs": [
        {
          "ename": "NameError",
          "evalue": "name 'noname' is not defined",
          "output_type": "error",
          "traceback": [
            "\u001b[0;31m---------------------------------------------------------------------------\u001b[0m",
            "\u001b[0;31mNameError\u001b[0m                                 Traceback (most recent call last)",
            "\u001b[1;32m/Users/yun/Project/study/05_파이썬(제어문).ipynb 셀 72\u001b[0m in \u001b[0;36m<cell line: 1>\u001b[0;34m()\u001b[0m\n\u001b[0;32m----> <a href='vscode-notebook-cell:/Users/yun/Project/study/05_%ED%8C%8C%EC%9D%B4%EC%8D%AC%28%EC%A0%9C%EC%96%B4%EB%AC%B8%29.ipynb#Y131sZmlsZQ%3D%3D?line=0'>1</a>\u001b[0m noname \u001b[39m+\u001b[39m \u001b[39m3\u001b[39m\n",
            "\u001b[0;31mNameError\u001b[0m: name 'noname' is not defined"
          ]
        }
      ],
      "source": [
        "# noname + 3"
      ]
    },
    {
      "cell_type": "markdown",
      "metadata": {
        "id": "Ij6ieZ6v7JXo"
      },
      "source": [
        "* TypeError"
      ]
    },
    {
      "cell_type": "code",
      "execution_count": null,
      "metadata": {
        "id": "EwuWO4tP68OT"
      },
      "outputs": [
        {
          "ename": "TypeError",
          "evalue": "can only concatenate str (not \"int\") to str",
          "output_type": "error",
          "traceback": [
            "\u001b[0;31m---------------------------------------------------------------------------\u001b[0m",
            "\u001b[0;31mTypeError\u001b[0m                                 Traceback (most recent call last)",
            "\u001b[1;32m/Users/yun/Project/study/05_파이썬(제어문).ipynb 셀 74\u001b[0m in \u001b[0;36m<cell line: 1>\u001b[0;34m()\u001b[0m\n\u001b[0;32m----> <a href='vscode-notebook-cell:/Users/yun/Project/study/05_%ED%8C%8C%EC%9D%B4%EC%8D%AC%28%EC%A0%9C%EC%96%B4%EB%AC%B8%29.ipynb#Y133sZmlsZQ%3D%3D?line=0'>1</a>\u001b[0m \u001b[39m'\u001b[39;49m\u001b[39m1\u001b[39;49m\u001b[39m'\u001b[39;49m \u001b[39m+\u001b[39;49m \u001b[39m1\u001b[39;49m\n",
            "\u001b[0;31mTypeError\u001b[0m: can only concatenate str (not \"int\") to str"
          ]
        }
      ],
      "source": [
        "# '1' + 1"
      ]
    },
    {
      "cell_type": "markdown",
      "metadata": {
        "id": "TSahjFWRNFSY"
      },
      "source": [
        "* ValueError"
      ]
    },
    {
      "cell_type": "code",
      "execution_count": null,
      "metadata": {
        "id": "QkZGJiqcNElu"
      },
      "outputs": [
        {
          "ename": "ValueError",
          "evalue": "invalid literal for int() with base 10: 'string'",
          "output_type": "error",
          "traceback": [
            "\u001b[0;31m---------------------------------------------------------------------------\u001b[0m",
            "\u001b[0;31mValueError\u001b[0m                                Traceback (most recent call last)",
            "\u001b[1;32m/Users/yun/Project/study/05_파이썬(제어문).ipynb 셀 76\u001b[0m in \u001b[0;36m<cell line: 1>\u001b[0;34m()\u001b[0m\n\u001b[0;32m----> <a href='vscode-notebook-cell:/Users/yun/Project/study/05_%ED%8C%8C%EC%9D%B4%EC%8D%AC%28%EC%A0%9C%EC%96%B4%EB%AC%B8%29.ipynb#Y135sZmlsZQ%3D%3D?line=0'>1</a>\u001b[0m \u001b[39mint\u001b[39;49m(\u001b[39m'\u001b[39;49m\u001b[39mstring\u001b[39;49m\u001b[39m'\u001b[39;49m)\n",
            "\u001b[0;31mValueError\u001b[0m: invalid literal for int() with base 10: 'string'"
          ]
        }
      ],
      "source": [
        "# int('string')\n",
        "# int('10') # 이건 가능"
      ]
    },
    {
      "cell_type": "markdown",
      "metadata": {
        "id": "6gu37rq_AciU"
      },
      "source": [
        "### 예외 처리(Exception Handling)"
      ]
    },
    {
      "cell_type": "markdown",
      "metadata": {
        "id": "FYZUyQqgK5Z_"
      },
      "source": [
        "#### try, except 문\n",
        "\n",
        "* try 문을 통해 예외 발생 가능한 코드에 정의\n",
        "* except 문을 이용해 예외 처리 방법을 정의"
      ]
    },
    {
      "cell_type": "code",
      "execution_count": null,
      "metadata": {
        "id": "wfONldWmjWjI"
      },
      "outputs": [
        {
          "name": "stdout",
          "output_type": "stream",
          "text": [
            "Error\n"
          ]
        }
      ],
      "source": [
        "try:\n",
        "    print(2 / 0)\n",
        "except:\n",
        "    print('Error')"
      ]
    },
    {
      "cell_type": "markdown",
      "metadata": {
        "id": "wCZtKuol63ET"
      },
      "source": [
        "#### 에러 분류에 따른 except 문\n",
        "\n",
        "* `ZeroDivisionError`에 대한 except 처리"
      ]
    },
    {
      "cell_type": "code",
      "execution_count": null,
      "metadata": {
        "id": "iI9q62ukjhLI"
      },
      "outputs": [
        {
          "name": "stdout",
          "output_type": "stream",
          "text": [
            "ZeroDivisionError\n"
          ]
        }
      ],
      "source": [
        "try:\n",
        "    print(2/0)\n",
        "except ZeroDivisionError:\n",
        "    print('ZeroDivisionError')"
      ]
    },
    {
      "cell_type": "markdown",
      "metadata": {
        "id": "5xb7qltz7EkZ"
      },
      "source": [
        "#### 에러 메시지가 포함된 except 문\n",
        "\n",
        "* `ZeroDivisionError`에 포함된 에러 메시지 `e`를 출력"
      ]
    },
    {
      "cell_type": "code",
      "execution_count": null,
      "metadata": {
        "id": "Hd8posBzjmQa"
      },
      "outputs": [
        {
          "name": "stdout",
          "output_type": "stream",
          "text": [
            "division by zero\n"
          ]
        }
      ],
      "source": [
        "try:\n",
        "    print(2/0)\n",
        "except ZeroDivisionError as e:\n",
        "    print(e)"
      ]
    },
    {
      "cell_type": "markdown",
      "metadata": {
        "id": "JAasRBB0-BLK"
      },
      "source": [
        "#### 여러 에러 분류가 포함된 except 문"
      ]
    },
    {
      "cell_type": "code",
      "execution_count": 3,
      "metadata": {
        "id": "IHqjg-lf6-SG"
      },
      "outputs": [
        {
          "name": "stdout",
          "output_type": "stream",
          "text": [
            "invalid literal for int() with base 10: ''\n"
          ]
        }
      ],
      "source": [
        "try:\n",
        "    n = int(input('입력: '))\n",
        "    result = 1 /n\n",
        "except ZeroDivisionError as e:\n",
        "    print(e)\n",
        "except ValueError as e:\n",
        "    print(e)\n",
        "else:\n",
        "    print('결과: '+ str(result))"
      ]
    },
    {
      "cell_type": "markdown",
      "metadata": {
        "id": "1yvDiPGN9ko0"
      },
      "source": [
        "### 에러 발생"
      ]
    },
    {
      "cell_type": "markdown",
      "metadata": {
        "id": "UZVye8Ot9r3u"
      },
      "source": [
        "#### raise 문\n",
        "\n",
        "* 직접적으로 에러를 발생시킬 수 있음\n",
        "* 에러의 종류와 에러 상황을 정의하고 발생"
      ]
    },
    {
      "cell_type": "code",
      "execution_count": null,
      "metadata": {},
      "outputs": [],
      "source": [
        "raise ZeroDivisionError('숫자를 0으로 나')"
      ]
    },
    {
      "cell_type": "code",
      "execution_count": null,
      "metadata": {
        "id": "YhXCjSq-D0oX"
      },
      "outputs": [],
      "source": [
        "raise NameError('지역 또는 전역 이름을 찾을 수 없음')"
      ]
    },
    {
      "cell_type": "code",
      "execution_count": null,
      "metadata": {
        "id": "seVpG5qoEDUL"
      },
      "outputs": [],
      "source": [
        "raise TypeError('연산이나 함수가 부적절한 형의 객체에 적용')"
      ]
    },
    {
      "cell_type": "code",
      "execution_count": null,
      "metadata": {
        "id": "Sg6jO8soEFRQ"
      },
      "outputs": [],
      "source": [
        "raise ValueError('연산이나 함수가 부적절한 값ㅇ르 인자로 받음')"
      ]
    },
    {
      "cell_type": "markdown",
      "metadata": {
        "id": "1tlN-WGZ9the"
      },
      "source": [
        "#### assert 문\n",
        "\n",
        "* raise 문과 달리 주로 검증을 위한 목적으로 작성\n",
        "* 상태를 검증하는 목적으로 작성되며 검증식이 포함됨\n",
        "* 검증식이 `False`일 경우 `AssertionErro` 발생"
      ]
    },
    {
      "cell_type": "code",
      "execution_count": 6,
      "metadata": {
        "id": "RDT6GAzpMtFu"
      },
      "outputs": [],
      "source": [
        "assert True"
      ]
    },
    {
      "cell_type": "code",
      "execution_count": null,
      "metadata": {
        "id": "Wi5Dhu2yFzfW"
      },
      "outputs": [],
      "source": [
        "assert False"
      ]
    },
    {
      "cell_type": "code",
      "execution_count": null,
      "metadata": {
        "id": "__lmGJw2G323"
      },
      "outputs": [],
      "source": [
        "assert False, '에러 메시지'"
      ]
    },
    {
      "cell_type": "code",
      "execution_count": 9,
      "metadata": {
        "id": "vmNwfDLcF0dm"
      },
      "outputs": [
        {
          "ename": "AssertionError",
          "evalue": "상태에 따라서 발생",
          "output_type": "error",
          "traceback": [
            "\u001b[0;31m---------------------------------------------------------------------------\u001b[0m",
            "\u001b[0;31mAssertionError\u001b[0m                            Traceback (most recent call last)",
            "\u001b[1;32m/Users/yun/Project/study/05_파이썬(제어문).ipynb 셀 96\u001b[0m in \u001b[0;36m<cell line: 2>\u001b[0;34m()\u001b[0m\n\u001b[1;32m      <a href='vscode-notebook-cell:/Users/yun/Project/study/05_%ED%8C%8C%EC%9D%B4%EC%8D%AC%28%EC%A0%9C%EC%96%B4%EB%AC%B8%29.ipynb#Y164sZmlsZQ%3D%3D?line=0'>1</a>\u001b[0m b \u001b[39m=\u001b[39m \u001b[39m0\u001b[39m\n\u001b[0;32m----> <a href='vscode-notebook-cell:/Users/yun/Project/study/05_%ED%8C%8C%EC%9D%B4%EC%8D%AC%28%EC%A0%9C%EC%96%B4%EB%AC%B8%29.ipynb#Y164sZmlsZQ%3D%3D?line=1'>2</a>\u001b[0m \u001b[39massert\u001b[39;00m b \u001b[39m!=\u001b[39m \u001b[39m0\u001b[39m, \u001b[39m'\u001b[39m\u001b[39m상태에 따라서 발생\u001b[39m\u001b[39m'\u001b[39m\n",
            "\u001b[0;31mAssertionError\u001b[0m: 상태에 따라서 발생"
          ]
        }
      ],
      "source": [
        "b = 0\n",
        "assert b != 0, '상태에 따라서 발생'"
      ]
    }
  ],
  "metadata": {
    "colab": {
      "collapsed_sections": [],
      "provenance": [],
      "toc_visible": true
    },
    "kernelspec": {
      "display_name": "Python 3.10.5 64-bit",
      "language": "python",
      "name": "python3"
    },
    "language_info": {
      "codemirror_mode": {
        "name": "ipython",
        "version": 3
      },
      "file_extension": ".py",
      "mimetype": "text/x-python",
      "name": "python",
      "nbconvert_exporter": "python",
      "pygments_lexer": "ipython3",
      "version": "3.10.5"
    },
    "vscode": {
      "interpreter": {
        "hash": "aee8b7b246df8f9039afb4144a1f6fd8d2ca17a180786b69acc140d282b71a49"
      }
    }
  },
  "nbformat": 4,
  "nbformat_minor": 0
}
