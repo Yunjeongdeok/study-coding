{
  "cells": [
    {
      "cell_type": "markdown",
      "metadata": {
        "id": "bg5ZXMV2sn1M"
      },
      "source": [
        "# 입력과 출력"
      ]
    },
    {
      "cell_type": "markdown",
      "metadata": {
        "id": "Lj_iZPKnCRP0"
      },
      "source": [
        "\n",
        "\n",
        "---\n",
        "\n"
      ]
    },
    {
      "cell_type": "markdown",
      "metadata": {
        "id": "zXbENjlMCrkU"
      },
      "source": [
        "## 표준 입출력(Standard Input/Output)\n",
        "\n"
      ]
    },
    {
      "cell_type": "code",
      "execution_count": 53,
      "metadata": {
        "id": "QerabWfwCvtt"
      },
      "outputs": [
        {
          "name": "stdout",
          "output_type": "stream",
          "text": [
            "1\n"
          ]
        }
      ],
      "source": [
        "name = input('이름: ')\n",
        "print(name)"
      ]
    },
    {
      "cell_type": "markdown",
      "metadata": {
        "id": "7eTpB0QqxKI5"
      },
      "source": [
        "#### [Lab] 섭씨 온도를 화씨 온도로 변환\n",
        "\n",
        "* 섭씨 온도를 화씨 온도로 변환하는 공식: $F = (C * 1.8) + 32$"
      ]
    },
    {
      "cell_type": "code",
      "execution_count": null,
      "metadata": {
        "id": "ILFOCS30xVAJ"
      },
      "outputs": [
        {
          "name": "stdout",
          "output_type": "stream",
          "text": [
            "섭씨 온도: 31.0\n",
            "화씨 온도: 87.80000000000001\n"
          ]
        }
      ],
      "source": [
        "celsius = float(input(\"섭씨 온도: \"))\n",
        "farenheit = (celsius * 1.8) + 32\n",
        "print('섭씨 온도:', celsius)\n",
        "print('화씨 온도:', farenheit)"
      ]
    },
    {
      "cell_type": "markdown",
      "metadata": {
        "id": "i8D8CzQAyLET"
      },
      "source": [
        "#### [Lab] 구구단 중의 하나의 단을 입력받아 계산\n",
        "\n",
        "* 출력할 단을 입력\n",
        "* 해당 단의 계산 결과 출력"
      ]
    },
    {
      "cell_type": "code",
      "execution_count": null,
      "metadata": {
        "id": "s5_zXZsvyXu1"
      },
      "outputs": [
        {
          "name": "stdout",
          "output_type": "stream",
          "text": [
            "7 1 = 7\n",
            "7 2 = 14\n",
            "7 3 = 21\n",
            "7 4 = 28\n",
            "7 5 = 35\n",
            "7 6 = 42\n",
            "7 7 = 49\n",
            "7 8 = 56\n",
            "7 9 = 63\n"
          ]
        }
      ],
      "source": [
        "i = int(input('출력할 단: '))\n",
        "for j in range(1,10):\n",
        "    print('{0} {1} = {2}'.format(i,j, i * j))"
      ]
    },
    {
      "cell_type": "markdown",
      "metadata": {
        "id": "dq9yEA9J20Mg"
      },
      "source": [
        "### 표준 출력 함수\n",
        "- `print()`함수: 콘솔 창을 통해서 결과를 출력하는 표준 출력 함수\n",
        "- sep = 'separator: 객체가 분리하는 방법 지정, 기본값은 ''\n",
        "- end = 'end' 끝에 출력할 항목 지정, 기본값'\\n\\\n",
        "- file: 쓰기 방법이 있는 객체, 기본값은 sys.stdout\n",
        "- flush: True일 경우 flush하고, False일 경우 버퍼, 기본값은 False"
      ]
    },
    {
      "cell_type": "code",
      "execution_count": null,
      "metadata": {
        "id": "pUGNUXMx292v"
      },
      "outputs": [
        {
          "name": "stdout",
          "output_type": "stream",
          "text": [
            "Hello, Python\n",
            "안녕 파이썬\n",
            "7\n",
            "3 14\n",
            "[1, 2, 3]\n",
            "Hello- - -python\n",
            "1 2 3\n",
            "\n",
            "\n",
            "1 2 3 "
          ]
        }
      ],
      "source": [
        "print('Hello, Python')\n",
        "print('안녕 파이썬')\n",
        "print(7)\n",
        "print(3, 14)\n",
        "print([1,2,3])\n",
        "\n",
        "print('Hello', 'python', sep='- - -')\n",
        "print(1,2,3);print()\n",
        "print(1, end=' ')\n",
        "print(2, end=' ')\n",
        "print(3, end=' ')"
      ]
    },
    {
      "cell_type": "markdown",
      "metadata": {
        "id": "ll_m-EALwmJ-"
      },
      "source": [
        "#### [Lab] 구구단 출력\n",
        "\n",
        "* `print()` 함수를 사용하여 각 단마다 횡으로 출력\n"
      ]
    },
    {
      "cell_type": "code",
      "execution_count": null,
      "metadata": {
        "id": "wgtwEAQywy03"
      },
      "outputs": [
        {
          "name": "stdout",
          "output_type": "stream",
          "text": [
            "2 x 1 = 2\t2 x 2 = 4\t2 x 3 = 6\t2 x 4 = 8\t2 x 5 = 10\t2 x 6 = 12\t2 x 7 = 14\t2 x 8 = 16\t2 x 9 = 18\t\n",
            "3 x 1 = 3\t3 x 2 = 6\t3 x 3 = 9\t3 x 4 = 12\t3 x 5 = 15\t3 x 6 = 18\t3 x 7 = 21\t3 x 8 = 24\t3 x 9 = 27\t\n",
            "4 x 1 = 4\t4 x 2 = 8\t4 x 3 = 12\t4 x 4 = 16\t4 x 5 = 20\t4 x 6 = 24\t4 x 7 = 28\t4 x 8 = 32\t4 x 9 = 36\t\n",
            "5 x 1 = 5\t5 x 2 = 10\t5 x 3 = 15\t5 x 4 = 20\t5 x 5 = 25\t5 x 6 = 30\t5 x 7 = 35\t5 x 8 = 40\t5 x 9 = 45\t\n",
            "6 x 1 = 6\t6 x 2 = 12\t6 x 3 = 18\t6 x 4 = 24\t6 x 5 = 30\t6 x 6 = 36\t6 x 7 = 42\t6 x 8 = 48\t6 x 9 = 54\t\n",
            "7 x 1 = 7\t7 x 2 = 14\t7 x 3 = 21\t7 x 4 = 28\t7 x 5 = 35\t7 x 6 = 42\t7 x 7 = 49\t7 x 8 = 56\t7 x 9 = 63\t\n",
            "8 x 1 = 8\t8 x 2 = 16\t8 x 3 = 24\t8 x 4 = 32\t8 x 5 = 40\t8 x 6 = 48\t8 x 7 = 56\t8 x 8 = 64\t8 x 9 = 72\t\n",
            "9 x 1 = 9\t9 x 2 = 18\t9 x 3 = 27\t9 x 4 = 36\t9 x 5 = 45\t9 x 6 = 54\t9 x 7 = 63\t9 x 8 = 72\t9 x 9 = 81\t\n"
          ]
        }
      ],
      "source": [
        "for i in range(2,10):\n",
        "    for j in range(1, 10):\n",
        "        print('{0} x {1} = {2}'.format(i, j, i * j), end=\"\\t\")\n",
        "    print()"
      ]
    },
    {
      "cell_type": "markdown",
      "metadata": {
        "id": "0BWIlqrPCr__"
      },
      "source": [
        "\n",
        "\n",
        "---\n",
        "\n"
      ]
    },
    {
      "cell_type": "markdown",
      "metadata": {
        "id": "ZfKg8LniN113"
      },
      "source": [
        "## 파일 입출력(File Input/Output)\n"
      ]
    },
    {
      "cell_type": "markdown",
      "metadata": {
        "id": "mwhDmG2GBd-P"
      },
      "source": [
        "### 파일 입출력 과정\n",
        "\n",
        "* 파일의 입출력 과정은 단계를 가짐\n",
        "* 파일을 열고, 파일을 읽거나 쓰고, 파일을 닫는 순서"
      ]
    },
    {
      "cell_type": "markdown",
      "metadata": {
        "id": "lTETVHfIBYER"
      },
      "source": [
        "### 파일 열기/닫기\n",
        "\n",
        "* file.txt 파일을 생성하고, 열고 닫기\n"
      ]
    },
    {
      "cell_type": "code",
      "execution_count": null,
      "metadata": {
        "id": "nea-tg6gNSQB"
      },
      "outputs": [],
      "source": [
        "f = open('file.txt', 'w')\n",
        "f = open('file.txt', 'r')\n",
        "f.close()"
      ]
    },
    {
      "cell_type": "code",
      "execution_count": null,
      "metadata": {
        "id": "dzvmCBufDrhK"
      },
      "outputs": [
        {
          "name": "stdout",
          "output_type": "stream",
          "text": [
            "file.txt\n"
          ]
        }
      ],
      "source": [
        "!ls file.txt"
      ]
    },
    {
      "cell_type": "markdown",
      "metadata": {
        "id": "h1fePk0YCnXV"
      },
      "source": [
        "### 파일 모드(File Mode)\n",
        "|생략|설명|\n",
        "|---|---|\n",
        "|r|읽기 모드(기본값)\n",
        "|w|쓰기 모드, 기존에 파일이 있으면 덮어쓰기\n",
        "|a|쓰기 모드, 기존에 파일이 있으면 이어서 쓰기(append)\n",
        "|+|읽기,쓰기 모드\n",
        "|t|텍스트 모드(기본값),텍스트 파일을 처리\n",
        "|b|이진 모드, 이진 파일을 처리\n",
        "\n",
        "\n"
      ]
    },
    {
      "cell_type": "markdown",
      "metadata": {
        "id": "iCfc-ODYDZQY"
      },
      "source": [
        "### 텍스트 파일 쓰기\n"
      ]
    },
    {
      "cell_type": "markdown",
      "metadata": {
        "id": "Hpq36wnEGoYT"
      },
      "source": [
        "#### write()\n",
        "\n",
        "* `write()`를 이용하여 파일에 쓰기"
      ]
    },
    {
      "cell_type": "code",
      "execution_count": null,
      "metadata": {
        "id": "7TftagQSBp7Y"
      },
      "outputs": [],
      "source": [
        "f = open('file.txt', 'w')\n",
        "f.write('Hello, Python')\n",
        "f.close()"
      ]
    },
    {
      "cell_type": "code",
      "execution_count": null,
      "metadata": {
        "id": "Vu2IvULnDo71"
      },
      "outputs": [
        {
          "name": "stdout",
          "output_type": "stream",
          "text": [
            "Hello, Python"
          ]
        }
      ],
      "source": [
        "!cat file.txt"
      ]
    },
    {
      "cell_type": "markdown",
      "metadata": {
        "id": "JP9cNh9bGso1"
      },
      "source": [
        "#### writelines()\n",
        "\n",
        "* `writelines()`를 이용하여 list를 파일에 쓰기"
      ]
    },
    {
      "cell_type": "code",
      "execution_count": null,
      "metadata": {
        "id": "uQih5aQjD1ie"
      },
      "outputs": [],
      "source": [
        "list = ['one\\n', 'two\\n', 'three\\n', 'four\\n']\n",
        "f = open('file.txt', 'w')\n",
        "f.writelines(list)\n",
        "f.close()"
      ]
    },
    {
      "cell_type": "code",
      "execution_count": null,
      "metadata": {
        "id": "tziPz-7uHDIN"
      },
      "outputs": [
        {
          "name": "stdout",
          "output_type": "stream",
          "text": [
            "one\n",
            "two\n",
            "three\n",
            "four\n"
          ]
        }
      ],
      "source": [
        "!cat file.txt"
      ]
    },
    {
      "cell_type": "markdown",
      "metadata": {
        "id": "Y4JzUhHklI3f"
      },
      "source": [
        "#### 표준 입력 → 파일 쓰기\n",
        "\n",
        "* 표준 입력을 `input()` 함수를 통해 입력 받고, `write()` 함수를 통해 파일에 쓰기"
      ]
    },
    {
      "cell_type": "code",
      "execution_count": null,
      "metadata": {
        "id": "0hUDWW-zHJp3"
      },
      "outputs": [],
      "source": [
        "text = input('입력: ')\n",
        "f = d=open('file.txt', 'w')\n",
        "f.write(text)\n",
        "f.close()"
      ]
    },
    {
      "cell_type": "code",
      "execution_count": null,
      "metadata": {
        "id": "YX-QNXwEjEA0"
      },
      "outputs": [
        {
          "name": "stdout",
          "output_type": "stream",
          "text": [
            "Yes i can!"
          ]
        }
      ],
      "source": [
        "!cat file.txt"
      ]
    },
    {
      "cell_type": "code",
      "execution_count": null,
      "metadata": {
        "id": "x3bZ3RoOjFf4"
      },
      "outputs": [],
      "source": [
        "text = [(str(text) + '\\n') for text in input('여러 값 일력: ').split()]\n",
        "f = open('file.txt', 'w')\n",
        "f.writelines(text)\n",
        "f.close()"
      ]
    },
    {
      "cell_type": "code",
      "execution_count": null,
      "metadata": {
        "id": "6p_C8UUjmMSF"
      },
      "outputs": [
        {
          "name": "stdout",
          "output_type": "stream",
          "text": [
            "1\n",
            "2\n",
            "3\n",
            "4\n",
            "5\n",
            "1\n",
            "2\n",
            "3\n",
            "4\n",
            "5\n"
          ]
        }
      ],
      "source": [
        "!cat file.txt\n"
      ]
    },
    {
      "cell_type": "code",
      "execution_count": 58,
      "metadata": {},
      "outputs": [],
      "source": [
        "x = ''\n",
        "text = ''\n",
        "while x != 'q':\n",
        "    x = input('반복 입력:')\n",
        "    text += x + '\\n'\n",
        "\n",
        "f = open('file.txt', 'w')\n",
        "f.writelines(text)\n",
        "f.close()"
      ]
    },
    {
      "cell_type": "code",
      "execution_count": 59,
      "metadata": {},
      "outputs": [
        {
          "name": "stderr",
          "output_type": "stream",
          "text": [
            "3997.99s - pydevd: Sending message related to process being replaced timed-out after 5 seconds\n"
          ]
        },
        {
          "name": "stdout",
          "output_type": "stream",
          "text": [
            "1\n",
            "2\n",
            "3\n",
            "4\n",
            "5\n",
            "q\n"
          ]
        }
      ],
      "source": [
        "!cat file.txt"
      ]
    },
    {
      "cell_type": "markdown",
      "metadata": {
        "id": "WNkV859qiqU1"
      },
      "source": [
        "### [Lab] 구구단 결과를 파일에 쓰기\n",
        "\n",
        "* 구구단 결과를 파일에 쓰기"
      ]
    },
    {
      "cell_type": "code",
      "execution_count": 63,
      "metadata": {
        "id": "Z-Dj-GKcnyvq"
      },
      "outputs": [],
      "source": [
        "f = open('dan.txt', 'w')\n",
        "for i in range(2, 10):\n",
        "    for j in range(1, 10):\n",
        "        f.write('{0} x {1} = {2}\\n'.format(i, j, i * j))\n",
        "    else:\n",
        "        f.write('\\n')\n",
        "\n",
        "f.close()"
      ]
    },
    {
      "cell_type": "code",
      "execution_count": 64,
      "metadata": {
        "id": "KGuAERghrA1X"
      },
      "outputs": [
        {
          "name": "stderr",
          "output_type": "stream",
          "text": [
            "4201.87s - pydevd: Sending message related to process being replaced timed-out after 5 seconds\n"
          ]
        },
        {
          "name": "stdout",
          "output_type": "stream",
          "text": [
            "2 x 1 = 2\n",
            "2 x 2 = 4\n",
            "2 x 3 = 6\n",
            "2 x 4 = 8\n",
            "2 x 5 = 10\n",
            "2 x 6 = 12\n",
            "2 x 7 = 14\n",
            "2 x 8 = 16\n",
            "2 x 9 = 18\n",
            "\n",
            "3 x 1 = 3\n",
            "3 x 2 = 6\n",
            "3 x 3 = 9\n",
            "3 x 4 = 12\n",
            "3 x 5 = 15\n",
            "3 x 6 = 18\n",
            "3 x 7 = 21\n",
            "3 x 8 = 24\n",
            "3 x 9 = 27\n",
            "\n",
            "4 x 1 = 4\n",
            "4 x 2 = 8\n",
            "4 x 3 = 12\n",
            "4 x 4 = 16\n",
            "4 x 5 = 20\n",
            "4 x 6 = 24\n",
            "4 x 7 = 28\n",
            "4 x 8 = 32\n",
            "4 x 9 = 36\n",
            "\n",
            "5 x 1 = 5\n",
            "5 x 2 = 10\n",
            "5 x 3 = 15\n",
            "5 x 4 = 20\n",
            "5 x 5 = 25\n",
            "5 x 6 = 30\n",
            "5 x 7 = 35\n",
            "5 x 8 = 40\n",
            "5 x 9 = 45\n",
            "\n",
            "6 x 1 = 6\n",
            "6 x 2 = 12\n",
            "6 x 3 = 18\n",
            "6 x 4 = 24\n",
            "6 x 5 = 30\n",
            "6 x 6 = 36\n",
            "6 x 7 = 42\n",
            "6 x 8 = 48\n",
            "6 x 9 = 54\n",
            "\n",
            "7 x 1 = 7\n",
            "7 x 2 = 14\n",
            "7 x 3 = 21\n",
            "7 x 4 = 28\n",
            "7 x 5 = 35\n",
            "7 x 6 = 42\n",
            "7 x 7 = 49\n",
            "7 x 8 = 56\n",
            "7 x 9 = 63\n",
            "\n",
            "8 x 1 = 8\n",
            "8 x 2 = 16\n",
            "8 x 3 = 24\n",
            "8 x 4 = 32\n",
            "8 x 5 = 40\n",
            "8 x 6 = 48\n",
            "8 x 7 = 56\n",
            "8 x 8 = 64\n",
            "8 x 9 = 72\n",
            "\n",
            "9 x 1 = 9\n",
            "9 x 2 = 18\n",
            "9 x 3 = 27\n",
            "9 x 4 = 36\n",
            "9 x 5 = 45\n",
            "9 x 6 = 54\n",
            "9 x 7 = 63\n",
            "9 x 8 = 72\n",
            "9 x 9 = 81\n",
            "\n"
          ]
        }
      ],
      "source": [
        "!cat dan.txt"
      ]
    },
    {
      "cell_type": "markdown",
      "metadata": {
        "id": "Qb_pHnyWmXhf"
      },
      "source": [
        "### 텍스트 파일 출력\n"
      ]
    },
    {
      "cell_type": "markdown",
      "metadata": {
        "id": "04674ECuaVeg"
      },
      "source": [
        "* 텍스트 파일 예제"
      ]
    },
    {
      "cell_type": "code",
      "execution_count": 68,
      "metadata": {
        "id": "ZBqDkuKHmPRl"
      },
      "outputs": [
        {
          "name": "stderr",
          "output_type": "stream",
          "text": [
            "4390.70s - pydevd: Sending message related to process being replaced timed-out after 5 seconds\n",
            "4396.36s - pydevd: Sending message related to process being replaced timed-out after 5 seconds\n"
          ]
        }
      ],
      "source": [
        "!echo \"동해물과 백두산이 마르고 닳도록\" > anthem.txt\n",
        "!echo \"하느님이 보우하사 우리나라 만세\" >> anthem.txt"
      ]
    },
    {
      "cell_type": "markdown",
      "metadata": {
        "id": "ynAP34NKmzBs"
      },
      "source": [
        "#### readline()\n",
        "\n",
        "* `readline()`를 이용하여 텍스트 파일을 라인 단위로 읽고 화면에 출력"
      ]
    },
    {
      "cell_type": "code",
      "execution_count": 70,
      "metadata": {
        "id": "aSr5-3jbTpXL"
      },
      "outputs": [
        {
          "name": "stdout",
          "output_type": "stream",
          "text": [
            "동해물과 백두산이 마르고 닳도록\n",
            "\n",
            "동해물과 백두산이 마르고 닳도록\n",
            "\n",
            "하느님이 보우하사 우리나라 만세\n",
            "\n",
            "하느님이 보우하사 우리나라 만세\n",
            "\n",
            "\n"
          ]
        }
      ],
      "source": [
        "f = open('anthem.txt', 'r')\n",
        "while True:\n",
        "    line = f.readline()\n",
        "    if not line: break\n",
        "    print(line)\n",
        "    print(line)\n",
        "\n",
        "print(line)"
      ]
    },
    {
      "cell_type": "markdown",
      "metadata": {
        "id": "wfRSe7X7YQQr"
      },
      "source": [
        "#### readlines()\n",
        "\n",
        "* `readlines()`를 이용하여 텍스트 파일의 여러 라인을 읽고 화면에 출력"
      ]
    },
    {
      "cell_type": "code",
      "execution_count": 72,
      "metadata": {
        "id": "UKvvxHziYdgS"
      },
      "outputs": [
        {
          "name": "stdout",
          "output_type": "stream",
          "text": [
            "['동해물과 백두산이 마르고 닳도록\\n', '하느님이 보우하사 우리나라 만세\\n']\n"
          ]
        }
      ],
      "source": [
        "f = open('anthem.txt')\n",
        "lines = f.readlines()\n",
        "print(lines)\n",
        "f.close()"
      ]
    },
    {
      "cell_type": "markdown",
      "metadata": {
        "id": "AW6SmMx8aEVn"
      },
      "source": [
        "#### read()\n",
        "\n",
        "* `read()`를 이용하여 텍스트 파일을 읽고 화면에 출력"
      ]
    },
    {
      "cell_type": "code",
      "execution_count": 73,
      "metadata": {
        "id": "WGgYorQ0Yi6c"
      },
      "outputs": [
        {
          "name": "stdout",
          "output_type": "stream",
          "text": [
            "동해물과 백두산이 마르고 닳도록\n",
            "하느님이 보우하사 우리나라 만세\n",
            "\n"
          ]
        }
      ],
      "source": [
        "f = open('anthem.txt', 'r')\n",
        "data = f.read()\n",
        "print(data)\n",
        "f.close()"
      ]
    },
    {
      "cell_type": "markdown",
      "metadata": {
        "id": "Qy5AKrmZexQR"
      },
      "source": [
        "#### tell()\n",
        "\n",
        "* 파일 포인터 위치 변경"
      ]
    },
    {
      "cell_type": "code",
      "execution_count": 74,
      "metadata": {
        "id": "b5FgVeUjaeB1"
      },
      "outputs": [
        {
          "name": "stdout",
          "output_type": "stream",
          "text": [
            "0\n",
            "동해물과 백두산이 마르고 닳도록\n",
            "\n",
            "46\n",
            "하느님이 보우하사 우리나라 만세\n",
            "\n",
            "92\n"
          ]
        }
      ],
      "source": [
        "f = open('anthem.txt', 'r')\n",
        "while True:\n",
        "    print(f.tell())\n",
        "    line = f.readline()\n",
        "    if not line: break\n",
        "    print(line)\n",
        "\n",
        "f.close()"
      ]
    },
    {
      "cell_type": "markdown",
      "metadata": {
        "id": "TGOuMtV-fmzX"
      },
      "source": [
        "#### seek()\n",
        "\n",
        "* 파일 포인터 위치 이동"
      ]
    },
    {
      "cell_type": "code",
      "execution_count": 79,
      "metadata": {
        "id": "iv9v8YgWe7ps"
      },
      "outputs": [
        {
          "name": "stdout",
          "output_type": "stream",
          "text": [
            "하느님이 보우하사 우리나라 만세\n",
            "\n",
            "\n"
          ]
        }
      ],
      "source": [
        "f = open('anthem.txt', 'r')\n",
        "f.seek(46)\n",
        "line = f.readline()\n",
        "print(line)\n",
        "line = f.read(0)\n",
        "print(line)\n",
        "f.close()"
      ]
    },
    {
      "cell_type": "markdown",
      "metadata": {
        "id": "L_Suw_pGgTir"
      },
      "source": [
        "### with 문\n",
        "\n",
        "* 항상 파일을 `open()` 함수로 열고, `close()` 함수로 닫아야 하는 일을 자동으로 처리\n",
        "* with문을 이용하면 with 블록 내에서 파일을 열고 벗어나면 파일을 닫음"
      ]
    },
    {
      "cell_type": "code",
      "execution_count": null,
      "metadata": {
        "id": "UoCCDoZSfxfm"
      },
      "outputs": [],
      "source": [
        "f = open('file.txt', 'w')\n",
        "f.write('Hello Python')\n",
        "f.close()"
      ]
    },
    {
      "cell_type": "code",
      "execution_count": 80,
      "metadata": {
        "id": "SQRXWFlrgsoz"
      },
      "outputs": [],
      "source": [
        "with open('file.text', 'w') as f:\n",
        "    f.write('Hello Python')"
      ]
    },
    {
      "cell_type": "markdown",
      "metadata": {
        "id": "pdqlyRyrhJrO"
      },
      "source": [
        "### [Lab] 표준 입력으로 받은 내용을 파일로 쓰기\n",
        "\n",
        "* 사용자로부터 표준 입력 받음\n",
        "* 받은 내용을 계속 파일 쓰기"
      ]
    },
    {
      "cell_type": "code",
      "execution_count": 81,
      "metadata": {
        "id": "Qy7mVrrggx8r"
      },
      "outputs": [],
      "source": [
        "f = open('file.txt', 'w')\n",
        "line = ''\n",
        "while True:\n",
        "    line = input()\n",
        "    if not line: break\n",
        "    f.writelines(line + '\\n')\n",
        "\n",
        "f.close()"
      ]
    },
    {
      "cell_type": "code",
      "execution_count": 83,
      "metadata": {
        "id": "CyogsvI8pHDH"
      },
      "outputs": [
        {
          "name": "stderr",
          "output_type": "stream",
          "text": [
            "5158.68s - pydevd: Sending message related to process being replaced timed-out after 5 seconds\n"
          ]
        },
        {
          "name": "stdout",
          "output_type": "stream",
          "text": [
            "동해붐로가 백두산이 마르고 닳도록\n",
            "하나님이 보우하사 우리나라 만세\n"
          ]
        }
      ],
      "source": [
        "!cat file.txt"
      ]
    },
    {
      "cell_type": "markdown",
      "metadata": {},
      "source": [
        "### 텍스트 파일 vs 이진 파일\n",
        "- 텍스트 파일(text file): 사람이 읽을 수 있ㅁ는 텍스트로 구성된 파일\n",
        "- 이진 파일(binary file): 텍스트가 아닌 비트 단위의 파일\n",
        "- 이진 파일의 종류: 그림, 음악, 영상, 프로그램 파일 등"
      ]
    },
    {
      "cell_type": "markdown",
      "metadata": {
        "id": "8u3USAlzkYBc"
      },
      "source": [
        "* 이진 파일(이미지) 예제\n"
      ]
    },
    {
      "cell_type": "code",
      "execution_count": 85,
      "metadata": {
        "id": "zf2Cv4xBkcZ6"
      },
      "outputs": [
        {
          "name": "stderr",
          "output_type": "stream",
          "text": [
            "5726.61s - pydevd: Sending message related to process being replaced timed-out after 5 seconds\n"
          ]
        },
        {
          "name": "stdout",
          "output_type": "stream",
          "text": [
            "05_파이썬(제어문).ipynb               a.ipynb\n",
            "06. 파이썬(입력과 출력).ipynb         anthem.txt\n",
            "07. 함수.ipynb                        bear.jpg\n",
            "08. 객체와_클래스.ipynb               dan.txt\n",
            "09. 모듈과_패키지.ipynb               file.text\n",
            "OpenCV.ipynb                          file.txt\n",
            "Pandas.ipynb\n"
          ]
        }
      ],
      "source": [
        "# 구글 코랩을 사용할 때 사용가능하다.\n",
        "# from google.colab import files\n",
        "# files.upload()"
      ]
    },
    {
      "cell_type": "code",
      "execution_count": 86,
      "metadata": {
        "id": "-79_rqZSlAAj"
      },
      "outputs": [
        {
          "name": "stderr",
          "output_type": "stream",
          "text": [
            "5772.14s - pydevd: Sending message related to process being replaced timed-out after 5 seconds\n"
          ]
        },
        {
          "name": "stdout",
          "output_type": "stream",
          "text": [
            "05_파이썬(제어문).ipynb               a.ipynb\n",
            "06. 파이썬(입력과 출력).ipynb         anthem.txt\n",
            "07. 함수.ipynb                        bear.jpg\n",
            "08. 객체와_클래스.ipynb               dan.txt\n",
            "09. 모듈과_패키지.ipynb               file.text\n",
            "OpenCV.ipynb                          file.txt\n",
            "Pandas.ipynb\n"
          ]
        }
      ],
      "source": [
        "!ls"
      ]
    },
    {
      "cell_type": "markdown",
      "metadata": {
        "id": "xAIKkI0kkNCc"
      },
      "source": [
        "### 이진 파일 복사\n",
        "\n",
        "* 하나의 이진 파일을 읽어서 다른 이진 파일로 쓰기 (복사)"
      ]
    },
    {
      "cell_type": "code",
      "execution_count": 122,
      "metadata": {
        "id": "O1Lgc0xJifEe"
      },
      "outputs": [],
      "source": [
        "input = open('bear.jpg', 'rb')\n",
        "output = open('unnamed_copy.jpg', 'wb')\n",
        "while True:\n",
        "    fp = input.read(1) # 1씩 읽어줘\n",
        "    if not fp: break\n",
        "    output.write(fp)\n",
        "\n",
        "input.close()\n",
        "output.close()"
      ]
    },
    {
      "cell_type": "code",
      "execution_count": 90,
      "metadata": {
        "id": "FYokBMPGloiG"
      },
      "outputs": [
        {
          "name": "stderr",
          "output_type": "stream",
          "text": [
            "6206.48s - pydevd: Sending message related to process being replaced timed-out after 5 seconds\n"
          ]
        },
        {
          "name": "stdout",
          "output_type": "stream",
          "text": [
            "05_파이썬(제어문).ipynb               a.ipynb\n",
            "06. 파이썬(입력과 출력).ipynb         anthem.txt\n",
            "07. 함수.ipynb                        bear.jpg\n",
            "08. 객체와_클래스.ipynb               dan.txt\n",
            "09. 모듈과_패키지.ipynb               file.text\n",
            "OpenCV.ipynb                          file.txt\n",
            "Pandas.ipynb                          unnamed_copy.jpg\n"
          ]
        }
      ],
      "source": [
        "!ls"
      ]
    },
    {
      "cell_type": "markdown",
      "metadata": {
        "id": "6cGa9Yu6aYTw"
      },
      "source": [
        "## 디렉토리 및 파일 처리"
      ]
    },
    {
      "cell_type": "markdown",
      "metadata": {
        "id": "Gx6vy4ugmTx3"
      },
      "source": [
        "### 디렉토리 생성\n",
        "\n",
        "* 디렉토리와 파일을 다루는 다양한 함수를 제공하는 shutil와 os 라이브러리\n",
        "* `mkdir()`: 디렉토리 생성"
      ]
    },
    {
      "cell_type": "code",
      "execution_count": 91,
      "metadata": {
        "id": "7BjQCHTelp3J"
      },
      "outputs": [],
      "source": [
        "import os\n",
        "import shutil\n",
        "os.mkdir('test')\n",
        "os.mkdir('test/1')\n",
        "os.mkdir('test/2')\n",
        "os.mkdir('test/3')\n"
      ]
    },
    {
      "cell_type": "code",
      "execution_count": 92,
      "metadata": {
        "id": "C7MpVtiJmi24"
      },
      "outputs": [
        {
          "name": "stderr",
          "output_type": "stream",
          "text": [
            "6330.56s - pydevd: Sending message related to process being replaced timed-out after 5 seconds\n"
          ]
        },
        {
          "name": "stdout",
          "output_type": "stream",
          "text": [
            "05_파이썬(제어문).ipynb               anthem.txt\n",
            "06. 파이썬(입력과 출력).ipynb         bear.jpg\n",
            "07. 함수.ipynb                        dan.txt\n",
            "08. 객체와_클래스.ipynb               file.text\n",
            "09. 모듈과_패키지.ipynb               file.txt\n",
            "OpenCV.ipynb                          \u001b[34mtest\u001b[m\u001b[m\n",
            "Pandas.ipynb                          unnamed_copy.jpg\n",
            "a.ipynb\n"
          ]
        }
      ],
      "source": [
        "!ls"
      ]
    },
    {
      "cell_type": "code",
      "execution_count": 93,
      "metadata": {
        "id": "bTzCbKxGmmYD"
      },
      "outputs": [
        {
          "name": "stderr",
          "output_type": "stream",
          "text": [
            "6354.06s - pydevd: Sending message related to process being replaced timed-out after 5 seconds\n"
          ]
        },
        {
          "name": "stdout",
          "output_type": "stream",
          "text": [
            "\u001b[34m1\u001b[m\u001b[m \u001b[34m2\u001b[m\u001b[m \u001b[34m3\u001b[m\u001b[m\n"
          ]
        }
      ],
      "source": [
        "!ls test"
      ]
    },
    {
      "cell_type": "markdown",
      "metadata": {
        "id": "O_RHayEvmsZI"
      },
      "source": [
        "### 디렉토리 및 파일 복사\n",
        "\n",
        "* `shutil.copy()`: 파일 복사\n",
        "* `shutil.copytree()`: 디렉토리 전체 복사"
      ]
    },
    {
      "cell_type": "code",
      "execution_count": 121,
      "metadata": {
        "id": "WoEn0xGxmn0n"
      },
      "outputs": [
        {
          "ename": "FileNotFoundError",
          "evalue": "[Errno 2] No such file or directory: 'unnamed_copy.jpg'",
          "output_type": "error",
          "traceback": [
            "\u001b[0;31m---------------------------------------------------------------------------\u001b[0m",
            "\u001b[0;31mFileNotFoundError\u001b[0m                         Traceback (most recent call last)",
            "\u001b[1;32m/Users/yun/Project/study/06. 파이썬(입력과 출력).ipynb 셀 69\u001b[0m in \u001b[0;36m<cell line: 2>\u001b[0;34m()\u001b[0m\n\u001b[1;32m      <a href='vscode-notebook-cell:/Users/yun/Project/study/06.%20%ED%8C%8C%EC%9D%B4%EC%8D%AC%28%EC%9E%85%EB%A0%A5%EA%B3%BC%20%EC%B6%9C%EB%A0%A5%29.ipynb#Y124sZmlsZQ%3D%3D?line=0'>1</a>\u001b[0m \u001b[39mimport\u001b[39;00m \u001b[39mshutil\u001b[39;00m\n\u001b[0;32m----> <a href='vscode-notebook-cell:/Users/yun/Project/study/06.%20%ED%8C%8C%EC%9D%B4%EC%8D%AC%28%EC%9E%85%EB%A0%A5%EA%B3%BC%20%EC%B6%9C%EB%A0%A5%29.ipynb#Y124sZmlsZQ%3D%3D?line=1'>2</a>\u001b[0m shutil\u001b[39m.\u001b[39;49mcopy(\u001b[39m'\u001b[39;49m\u001b[39munnamed_copy.jpg\u001b[39;49m\u001b[39m'\u001b[39;49m, \u001b[39m'\u001b[39;49m\u001b[39munnamed_copy2.jpg\u001b[39;49m\u001b[39m'\u001b[39;49m)\n",
            "File \u001b[0;32m/Library/Frameworks/Python.framework/Versions/3.10/lib/python3.10/shutil.py:417\u001b[0m, in \u001b[0;36mcopy\u001b[0;34m(src, dst, follow_symlinks)\u001b[0m\n\u001b[1;32m    415\u001b[0m \u001b[39mif\u001b[39;00m os\u001b[39m.\u001b[39mpath\u001b[39m.\u001b[39misdir(dst):\n\u001b[1;32m    416\u001b[0m     dst \u001b[39m=\u001b[39m os\u001b[39m.\u001b[39mpath\u001b[39m.\u001b[39mjoin(dst, os\u001b[39m.\u001b[39mpath\u001b[39m.\u001b[39mbasename(src))\n\u001b[0;32m--> 417\u001b[0m copyfile(src, dst, follow_symlinks\u001b[39m=\u001b[39;49mfollow_symlinks)\n\u001b[1;32m    418\u001b[0m copymode(src, dst, follow_symlinks\u001b[39m=\u001b[39mfollow_symlinks)\n\u001b[1;32m    419\u001b[0m \u001b[39mreturn\u001b[39;00m dst\n",
            "File \u001b[0;32m/Library/Frameworks/Python.framework/Versions/3.10/lib/python3.10/shutil.py:254\u001b[0m, in \u001b[0;36mcopyfile\u001b[0;34m(src, dst, follow_symlinks)\u001b[0m\n\u001b[1;32m    252\u001b[0m     os\u001b[39m.\u001b[39msymlink(os\u001b[39m.\u001b[39mreadlink(src), dst)\n\u001b[1;32m    253\u001b[0m \u001b[39melse\u001b[39;00m:\n\u001b[0;32m--> 254\u001b[0m     \u001b[39mwith\u001b[39;00m \u001b[39mopen\u001b[39;49m(src, \u001b[39m'\u001b[39;49m\u001b[39mrb\u001b[39;49m\u001b[39m'\u001b[39;49m) \u001b[39mas\u001b[39;00m fsrc:\n\u001b[1;32m    255\u001b[0m         \u001b[39mtry\u001b[39;00m:\n\u001b[1;32m    256\u001b[0m             \u001b[39mwith\u001b[39;00m \u001b[39mopen\u001b[39m(dst, \u001b[39m'\u001b[39m\u001b[39mwb\u001b[39m\u001b[39m'\u001b[39m) \u001b[39mas\u001b[39;00m fdst:\n\u001b[1;32m    257\u001b[0m                 \u001b[39m# macOS\u001b[39;00m\n",
            "\u001b[0;31mFileNotFoundError\u001b[0m: [Errno 2] No such file or directory: 'unnamed_copy.jpg'"
          ]
        }
      ],
      "source": [
        "import shutil\n",
        "shutil.copy('unnamed_copy.jpg', 'unnamed_copy2.jpg')"
      ]
    },
    {
      "cell_type": "code",
      "execution_count": 96,
      "metadata": {
        "id": "kvhbuSyPnYCw"
      },
      "outputs": [
        {
          "name": "stderr",
          "output_type": "stream",
          "text": [
            "6510.97s - pydevd: Sending message related to process being replaced timed-out after 5 seconds\n"
          ]
        },
        {
          "name": "stdout",
          "output_type": "stream",
          "text": [
            "05_파이썬(제어문).ipynb               anthem.txt\n",
            "06. 파이썬(입력과 출력).ipynb         bear.jpg\n",
            "07. 함수.ipynb                        dan.txt\n",
            "08. 객체와_클래스.ipynb               file.text\n",
            "09. 모듈과_패키지.ipynb               file.txt\n",
            "OpenCV.ipynb                          \u001b[34mtest\u001b[m\u001b[m\n",
            "Pandas.ipynb                          unamed_copy2.jpg\n",
            "a.ipynb                               unnamed_copy.jpg\n"
          ]
        }
      ],
      "source": [
        "!ls"
      ]
    },
    {
      "cell_type": "code",
      "execution_count": 98,
      "metadata": {
        "id": "V5TS0NAnnY8z"
      },
      "outputs": [
        {
          "data": {
            "text/plain": [
              "'test2'"
            ]
          },
          "execution_count": 98,
          "metadata": {},
          "output_type": "execute_result"
        }
      ],
      "source": [
        "import shutil\n",
        "shutil.copytree('test', 'test2')"
      ]
    },
    {
      "cell_type": "code",
      "execution_count": 99,
      "metadata": {
        "id": "Y_Uglnwjngzs"
      },
      "outputs": [
        {
          "name": "stderr",
          "output_type": "stream",
          "text": [
            "6571.88s - pydevd: Sending message related to process being replaced timed-out after 5 seconds\n"
          ]
        },
        {
          "name": "stdout",
          "output_type": "stream",
          "text": [
            "05_파이썬(제어문).ipynb               bear.jpg\n",
            "06. 파이썬(입력과 출력).ipynb         dan.txt\n",
            "07. 함수.ipynb                        file.text\n",
            "08. 객체와_클래스.ipynb               file.txt\n",
            "09. 모듈과_패키지.ipynb               \u001b[34mtest\u001b[m\u001b[m\n",
            "OpenCV.ipynb                          \u001b[34mtest2\u001b[m\u001b[m\n",
            "Pandas.ipynb                          unamed_copy2.jpg\n",
            "a.ipynb                               unnamed_copy.jpg\n",
            "anthem.txt\n"
          ]
        }
      ],
      "source": [
        "!ls"
      ]
    },
    {
      "cell_type": "code",
      "execution_count": 100,
      "metadata": {
        "id": "GvoCuP-znh5Z"
      },
      "outputs": [
        {
          "name": "stderr",
          "output_type": "stream",
          "text": [
            "6602.95s - pydevd: Sending message related to process being replaced timed-out after 5 seconds\n"
          ]
        },
        {
          "name": "stdout",
          "output_type": "stream",
          "text": [
            "\u001b[34m1\u001b[m\u001b[m \u001b[34m2\u001b[m\u001b[m \u001b[34m3\u001b[m\u001b[m\n"
          ]
        }
      ],
      "source": [
        "!ls test2"
      ]
    },
    {
      "cell_type": "markdown",
      "metadata": {
        "id": "V75epsj4nng9"
      },
      "source": [
        "### 디렉토리 및 파일 확인\n",
        "\n",
        "* `isdir()`: 디렉토리 존재 확인\n",
        "* `isfile()`: 파일 존재 확인\n",
        "* `exists()`: 디렉토리/파일 존재 확인"
      ]
    },
    {
      "cell_type": "code",
      "execution_count": 105,
      "metadata": {
        "id": "aJjYdh2HnjdB"
      },
      "outputs": [
        {
          "name": "stdout",
          "output_type": "stream",
          "text": [
            "True\n",
            "True\n",
            "False\n",
            "False\n",
            "True\n",
            "False\n",
            "True\n",
            "True\n",
            "False\n"
          ]
        }
      ],
      "source": [
        "import os.path\n",
        "print(os.path.isdir('test'))\n",
        "print(os.path.isdir('test/1'))\n",
        "print(os.path.isdir('test/4'))\n",
        "\n",
        "print(os.path.isfile('unnamed.jpg'))\n",
        "print(os.path.isfile('unnamed_copy.jpg'))\n",
        "print(os.path.isfile('unnamed_copy2.jpg'))\n",
        "\n",
        "print(os.path.exists('test2'))\n",
        "print(os.path.exists('test2/1'))\n",
        "print(os.path.exists('test2/4'))"
      ]
    },
    {
      "cell_type": "markdown",
      "metadata": {
        "id": "dmMqt-iCoD8O"
      },
      "source": [
        "### 디렉토리 목록 보기\n",
        "\n",
        "* `os.walk()`: 디렉토리 목록 보기"
      ]
    },
    {
      "cell_type": "code",
      "execution_count": 108,
      "metadata": {
        "id": "8dl_wZjKn30X"
      },
      "outputs": [
        {
          "name": "stdout",
          "output_type": "stream",
          "text": [
            "./ file.text\n",
            "./ file.txt\n",
            "./ unnamed_copy.jpg\n",
            "./ a.ipynb\n",
            "./ .DS_Store\n",
            "./ 06. 파이썬(입력과 출력).ipynb\n",
            "./ dan.txt\n",
            "./ 08. 객체와_클래스.ipynb\n",
            "./ 09. 모듈과_패키지.ipynb\n",
            "./ 07. 함수.ipynb\n",
            "./ 05_파이썬(제어문).ipynb\n",
            "./ anthem.txt\n",
            "./ unamed_copy2.jpg\n",
            "./ OpenCV.ipynb\n",
            "./ Pandas.ipynb\n",
            "./ bear.jpg\n",
            "./.ipynb_checkpoints 009_string-checkpoint.ipynb\n",
            "./.ipynb_checkpoints study_bool-checkpoint.ipynb\n",
            "./.ipynb_checkpoints 009_list and tuple-checkpoint.ipynb\n",
            "./.git config\n",
            "./.git HEAD\n",
            "./.git description\n",
            "./.git index\n",
            "./.git COMMIT_EDITMSG\n",
            "./.git/objects/72 bc6464b0a52a899754f28af7a91fcc847c8ef8\n",
            "./.git/objects/36 3fcab7ed6e9634e198cf5555ceb88932c9a245\n",
            "./.git/objects/39 3e9f1f8a2a2d3eb6b9bcc3a23bb1099f5aa543\n",
            "./.git/objects/97 31134f3af6f4cfac0c08072f2f38451d88069f\n",
            "./.git/objects/d5 e1fcfc516d8504397c784c798908337458770b\n",
            "./.git/objects/a6 4d4ed74111e29cd8dbe84064ed596ee6e18322\n",
            "./.git/objects/ce 29ae3a8c9e7587dfd177386bd7f6726d047c3c\n",
            "./.git/objects/2d e14690a9f44182d59b2d8ab743d14329bae26f\n",
            "./.git/info exclude\n",
            "./.git/logs HEAD\n",
            "./.git/logs/refs/heads master\n",
            "./.git/hooks commit-msg.sample\n",
            "./.git/hooks pre-rebase.sample\n",
            "./.git/hooks pre-commit.sample\n",
            "./.git/hooks applypatch-msg.sample\n",
            "./.git/hooks fsmonitor-watchman.sample\n",
            "./.git/hooks pre-receive.sample\n",
            "./.git/hooks prepare-commit-msg.sample\n",
            "./.git/hooks post-update.sample\n",
            "./.git/hooks pre-merge-commit.sample\n",
            "./.git/hooks pre-applypatch.sample\n",
            "./.git/hooks pre-push.sample\n",
            "./.git/hooks update.sample\n",
            "./.git/hooks push-to-checkout.sample\n",
            "./.git/refs/heads master\n"
          ]
        }
      ],
      "source": [
        "import os\n",
        "for dir_name, dir_list, file_names in os.walk('./'):\n",
        "    for file_name in file_names:\n",
        "        print(os.path.join(dir_name), file_name)"
      ]
    },
    {
      "cell_type": "markdown",
      "metadata": {
        "id": "estvZcJApGpc"
      },
      "source": [
        "### 디렉토리 및 파일 삭제\n",
        "\n",
        "* `os.remove()`: 파일 삭제\n",
        "* `shutil.rmtree()`: 디렉토리 안에 모든 파일/디렉토리 삭제"
      ]
    },
    {
      "cell_type": "code",
      "execution_count": 113,
      "metadata": {
        "id": "czvnvkrKoTLm"
      },
      "outputs": [],
      "source": [
        "import os\n",
        "os.remove('unnamed_copy2.jpg')\n",
        "os.remove('unnamed_copy.jpg')"
      ]
    },
    {
      "cell_type": "code",
      "execution_count": 114,
      "metadata": {
        "id": "CwMlBpVFpXQ-"
      },
      "outputs": [
        {
          "name": "stderr",
          "output_type": "stream",
          "text": [
            "7323.43s - pydevd: Sending message related to process being replaced timed-out after 5 seconds\n"
          ]
        },
        {
          "name": "stdout",
          "output_type": "stream",
          "text": [
            "05_파이썬(제어문).ipynb               anthem.txt\n",
            "06. 파이썬(입력과 출력).ipynb         bear.jpg\n",
            "07. 함수.ipynb                        dan.txt\n",
            "08. 객체와_클래스.ipynb               file.text\n",
            "09. 모듈과_패키지.ipynb               file.txt\n",
            "OpenCV.ipynb                          \u001b[34mtest\u001b[m\u001b[m\n",
            "Pandas.ipynb                          \u001b[34mtest2\u001b[m\u001b[m\n",
            "a.ipynb\n"
          ]
        }
      ],
      "source": [
        "!ls"
      ]
    },
    {
      "cell_type": "code",
      "execution_count": 117,
      "metadata": {
        "id": "-dNA3t0Gpb-E"
      },
      "outputs": [],
      "source": [
        "import shutil\n",
        "shutil.rmtree('test')\n",
        "shutil.rmtree('test2')"
      ]
    },
    {
      "cell_type": "code",
      "execution_count": 118,
      "metadata": {
        "id": "NHqsllWupeU2"
      },
      "outputs": [
        {
          "name": "stderr",
          "output_type": "stream",
          "text": [
            "7423.54s - pydevd: Sending message related to process being replaced timed-out after 5 seconds\n"
          ]
        },
        {
          "name": "stdout",
          "output_type": "stream",
          "text": [
            "05_파이썬(제어문).ipynb               a.ipynb\n",
            "06. 파이썬(입력과 출력).ipynb         anthem.txt\n",
            "07. 함수.ipynb                        bear.jpg\n",
            "08. 객체와_클래스.ipynb               dan.txt\n",
            "09. 모듈과_패키지.ipynb               file.text\n",
            "OpenCV.ipynb                          file.txt\n",
            "Pandas.ipynb\n"
          ]
        }
      ],
      "source": [
        "!ls"
      ]
    },
    {
      "cell_type": "markdown",
      "metadata": {
        "id": "DiN7c--0pkYn"
      },
      "source": [
        "### 파일 크기\n",
        "\n",
        "* `os.path.getsize()`: 파일의 크기를 바이트 단위로 출력"
      ]
    },
    {
      "cell_type": "code",
      "execution_count": 120,
      "metadata": {
        "id": "rmiTPJYDpe9m"
      },
      "outputs": [
        {
          "name": "stdout",
          "output_type": "stream",
          "text": [
            "107989\n"
          ]
        }
      ],
      "source": [
        "import os.path\n",
        "print(os.path.getsize('bear.jpg'))"
      ]
    },
    {
      "cell_type": "markdown",
      "metadata": {
        "id": "9GITxX2sp0tx"
      },
      "source": [
        "### 파일 압축\n"
      ]
    },
    {
      "cell_type": "code",
      "execution_count": 124,
      "metadata": {
        "id": "JCXOQV2Ipt-E"
      },
      "outputs": [],
      "source": [
        "import zipfile\n",
        "comp = zipfile.ZipFile('new.zip', 'w')\n",
        "comp.write('bear.jpg')\n",
        "comp.close()"
      ]
    },
    {
      "cell_type": "code",
      "execution_count": 125,
      "metadata": {
        "id": "cpSLp4pGqeec"
      },
      "outputs": [
        {
          "name": "stderr",
          "output_type": "stream",
          "text": [
            "7632.17s - pydevd: Sending message related to process being replaced timed-out after 5 seconds\n"
          ]
        },
        {
          "name": "stdout",
          "output_type": "stream",
          "text": [
            "05_파이썬(제어문).ipynb               anthem.txt\n",
            "06. 파이썬(입력과 출력).ipynb         bear.jpg\n",
            "07. 함수.ipynb                        dan.txt\n",
            "08. 객체와_클래스.ipynb               file.text\n",
            "09. 모듈과_패키지.ipynb               file.txt\n",
            "OpenCV.ipynb                          new.zip\n",
            "Pandas.ipynb                          unnamed_copy.jpg\n",
            "a.ipynb\n"
          ]
        }
      ],
      "source": [
        "!ls"
      ]
    },
    {
      "cell_type": "code",
      "execution_count": 127,
      "metadata": {
        "id": "PpUzZdiAqfPp"
      },
      "outputs": [],
      "source": [
        "decomp = zipfile.ZipFile('new.zip', 'r')\n",
        "decomp.extractall('new')\n",
        "decomp.close()"
      ]
    },
    {
      "cell_type": "code",
      "execution_count": 129,
      "metadata": {
        "id": "Akgb1WQYqnzq"
      },
      "outputs": [
        {
          "name": "stderr",
          "output_type": "stream",
          "text": [
            "7754.35s - pydevd: Sending message related to process being replaced timed-out after 5 seconds\n"
          ]
        },
        {
          "name": "stdout",
          "output_type": "stream",
          "text": [
            "bear.jpg\n"
          ]
        }
      ],
      "source": [
        "!ls new"
      ]
    }
  ],
  "metadata": {
    "colab": {
      "collapsed_sections": [],
      "provenance": []
    },
    "kernelspec": {
      "display_name": "Python 3.10.5 64-bit",
      "language": "python",
      "name": "python3"
    },
    "language_info": {
      "codemirror_mode": {
        "name": "ipython",
        "version": 3
      },
      "file_extension": ".py",
      "mimetype": "text/x-python",
      "name": "python",
      "nbconvert_exporter": "python",
      "pygments_lexer": "ipython3",
      "version": "3.10.5"
    },
    "vscode": {
      "interpreter": {
        "hash": "aee8b7b246df8f9039afb4144a1f6fd8d2ca17a180786b69acc140d282b71a49"
      }
    }
  },
  "nbformat": 4,
  "nbformat_minor": 0
}
