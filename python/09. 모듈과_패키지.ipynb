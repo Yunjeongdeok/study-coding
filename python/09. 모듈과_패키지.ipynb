{
  "cells": [
    {
      "cell_type": "markdown",
      "metadata": {
        "id": "bg5ZXMV2sn1M"
      },
      "source": [
        "# 모듈과 패키지"
      ]
    },
    {
      "cell_type": "markdown",
      "metadata": {
        "id": "Lj_iZPKnCRP0"
      },
      "source": [
        "\n",
        "\n",
        "---\n",
        "\n"
      ]
    },
    {
      "cell_type": "markdown",
      "metadata": {},
      "source": [
        "## 모듈(Module)\n",
        "- 함수, 변수 그리고 클래스의 집합\n",
        "- 다른 파이썬프로그램에서 가져와 사용할 수있는 파이썬 파일\n",
        "- 파이썬에는 다른 사람들이 만들어 놓은 모듈이 굉장히 많음\n",
        "- 사용자가 모듈은 직접 만들어서 사용할 수도 있음\n",
        "\n",
        "### 모듈의 장점\n",
        "- 단순성\n",
        "    - 전체 문제에 초점을 맞추기보다는문제의 상대적으로 작은 부분에만 초점을 맞춤\n",
        "    - 단일 모듈로 작업할 수 있ㅁ는 작은 도메인\n",
        "    - 개발이 쉬우며 오류 발생이 적음\n",
        "- 유지보수성\n",
        "    - 일반적으로 모듈은 서로 다른 문제 영역간에 노릴적 경계를 설정하도록 설계\n",
        "    - 상호 의존성을 최소화하는 방식으로 모듈을 작성하여 단일 모듈을 수정하면 프로그램의 달느 부분에 영향을 미칠 가능성이 줄어듬\n",
        "    - 모듈 외부의 응용 프로그램에 대해 전혀 알지 못해도 모듈을 변경할 수 있음\n",
        "    - 개발팀이 대규모 응요 프로그램에서 공동으로 작업 할 수있음\n",
        "- 재사용성\n",
        "    - 담일 모듈에서 정의된 기능은 으용 프로그램의 다른 부분에서(적절히 정의된 인터페이스를 통해) 쉽게 재사용능가능\n",
        "    - 중복 코드를 만들 필요가 없음\n",
        "-범위 지정\n",
        "    - 일반적으로 모듈은 프로그램의 여러 영역에서 식별자 간의 충돌을 피하는데 도움이 되는 별도의 네임 스페이스를 정의\n",
        "\n",
        "### 모듈의 종류\n",
        "- 사용자 정의 모듈: 사용자가 직접 정의해서 사용하는 모듈\n",
        "- 표준 모듈: 파이썬에서 기본 제공하는 모듈\n",
        "- 서드 파티 모듈: 외부에서 제공하는 모듈\n",
        "    - 파이썬 표준 모듈에 모든 기능이 있지 않음\n",
        "    - 서드 파티 모듈을 이용해 고급 프로그래밍 가능\n",
        "    - 게임 개발을 위한 pygame, 데이터베이스 기능의 SQLAlchemy, 데이터 분석 기능의 Numpy\n"
      ]
    },
    {
      "cell_type": "markdown",
      "metadata": {
        "id": "bO6PBIYbZZ_4"
      },
      "source": [
        "### 사용자 정의 모듈\n",
        "\n",
        "* 사용자가 사용할 모듈을 직접 정의\n",
        "* 모듈 이름으로 파일명을 사용\n",
        "\n",
        "- IPython 내장 매직 명령어(magic command) 사용\n",
        "    - `%%writefile`: 셀의 코드를 .py 파이썬 코드 파일로 저장\n",
        "    - `%load`: 파이썬 코드 파일 불러오기\n",
        "    - `%run`: 파이썬 코드 파일 실행"
      ]
    },
    {
      "cell_type": "code",
      "execution_count": null,
      "metadata": {},
      "outputs": [],
      "source": [
        "%%writefile Module.py\n",
        "def func1():\n",
        "    print('Module.py: func1()')\n",
        "\n",
        "def func2():\n",
        "    print('Module.py: func2()')\n",
        "\n",
        "def func3():\n",
        "    print('Module.py: func3()')\n",
        "       "
      ]
    },
    {
      "cell_type": "code",
      "execution_count": null,
      "metadata": {
        "id": "CWZ8iKl6ap99"
      },
      "outputs": [],
      "source": [
        "!ls"
      ]
    },
    {
      "cell_type": "code",
      "execution_count": null,
      "metadata": {
        "id": "e-nLDjHWb1mX"
      },
      "outputs": [],
      "source": [
        "# %load Module.py\n",
        "def func1():\n",
        "    print('Module.py: func1()')\n",
        "\n",
        "def func2():\n",
        "    print('Module.py: func1()')\n",
        "\n",
        "def func3():\n",
        "    print('Module.py: func1()')\n",
        "       \n"
      ]
    },
    {
      "cell_type": "code",
      "execution_count": null,
      "metadata": {
        "id": "qsFSyO7scm1d"
      },
      "outputs": [],
      "source": [
        "%run Module.py"
      ]
    },
    {
      "cell_type": "code",
      "execution_count": null,
      "metadata": {},
      "outputs": [],
      "source": [
        "import Module\n",
        "Module.func1()\n",
        "Module.func2()\n",
        "Module.func3()"
      ]
    },
    {
      "cell_type": "code",
      "execution_count": null,
      "metadata": {
        "id": "d2HOXB12DoqK"
      },
      "outputs": [],
      "source": [
        "from Module import *\n",
        "func1()\n",
        "func2()\n",
        "func3()"
      ]
    },
    {
      "cell_type": "markdown",
      "metadata": {
        "id": "3sK8A00OD0wu"
      },
      "source": [
        "#### [Lab] 계산기 모듈 만들기\n",
        "\n",
        "* 사용자 정의 모듈을 이용해서 계산기에 필요한 기능들로 모듈 만들기"
      ]
    },
    {
      "cell_type": "code",
      "execution_count": null,
      "metadata": {
        "id": "r7UW1sFYD-fs"
      },
      "outputs": [],
      "source": [
        "%%writefile Calculator.py\n",
        "def add(a,b):\n",
        "    return a + b\n",
        "\n",
        "def sub(a,b):\n",
        "    return a - b       \n",
        "\n",
        "def mul(a,b):\n",
        "    return a / b\n",
        "\n",
        "def div(a,b):\n",
        "    return a % b\n",
        "\n",
        "def mod(a,b):\n",
        "    return a % b"
      ]
    },
    {
      "cell_type": "code",
      "execution_count": null,
      "metadata": {
        "id": "QUKdcfj7Em7-"
      },
      "outputs": [],
      "source": [
        "from Calculator import *\n",
        "\n",
        "print(add(3,5))\n",
        "print(sub(3,5))\n",
        "print(mul(3,5))\n",
        "print(div(3,5))\n",
        "print(mod(3,5))"
      ]
    },
    {
      "cell_type": "markdown",
      "metadata": {
        "id": "0pHAl9UoZfu6"
      },
      "source": [
        "\n",
        "\n",
        "---\n",
        "\n"
      ]
    },
    {
      "cell_type": "markdown",
      "metadata": {
        "id": "ZkEj_NrE56Xf"
      },
      "source": [
        "### 파이썬 표준 모듈\n",
        "\n",
        "* 파이썬에서 기본으로 내장된 유용한 속성과 함수들이 많음"
      ]
    },
    {
      "cell_type": "code",
      "execution_count": null,
      "metadata": {
        "id": "vPxFygaF6KT-"
      },
      "outputs": [],
      "source": [
        "import sys\n",
        "print(sys.builtin_module_names)"
      ]
    },
    {
      "cell_type": "code",
      "execution_count": null,
      "metadata": {
        "id": "E6pcvOoT6loa"
      },
      "outputs": [],
      "source": [
        "print(dir(__builtins__))"
      ]
    },
    {
      "cell_type": "markdown",
      "metadata": {
        "id": "ILtHUW9h6zKi"
      },
      "source": [
        "### 시간 모듈(datetime)\n",
        "\n",
        "* 운영체제가 제공하는 시간 기능을 파이썬에서 사용할 수 있도록 만들어진 모듈\n",
        "* 시간 모듈을 사용하기 위해서는 `import time` 필요"
      ]
    },
    {
      "cell_type": "code",
      "execution_count": null,
      "metadata": {
        "id": "MbSkRsQp622D"
      },
      "outputs": [],
      "source": [
        "import time\n",
        "print(dir(time))"
      ]
    },
    {
      "cell_type": "markdown",
      "metadata": {
        "id": "z9LVec3hYyqa"
      },
      "source": [
        "* 시간 모듈 `time` 예제"
      ]
    },
    {
      "cell_type": "code",
      "execution_count": null,
      "metadata": {
        "id": "DnE8kYXuYzC8"
      },
      "outputs": [],
      "source": [
        "import time\n",
        "print(time)\n",
        "print(time.time())\n",
        "print(time.time())\n",
        "print(time.time())\n",
        "\n",
        "\n",
        "now = time.gmtime(time.time())\n",
        "print(now)\n",
        "\n",
        "year = str(now.tm_year)\n",
        "month = str(now.tm_mon)\n",
        "day = str(now.tm_mday)\n",
        "print(year + '년', month + '월', day + '일')\n",
        "\n",
        "hour = str(now.tm_hour)\n",
        "minute = str(now.tm_min)\n",
        "sec = str(now.tm_sec)\n",
        "print(hour + '시', minute + '분', sec + '초')\n",
        "\n"
      ]
    },
    {
      "cell_type": "markdown",
      "metadata": {
        "id": "BbFoAvcKYnOI"
      },
      "source": [
        "* 날짜시간 모듈 `datetime`의 `date` 클래스 예제"
      ]
    },
    {
      "cell_type": "code",
      "execution_count": null,
      "metadata": {
        "id": "RvkSO1yhYs5W"
      },
      "outputs": [],
      "source": [
        "from datetime import date\n",
        "print(date)\n",
        "print(date(2020, 9, 9))\n",
        "print(date(year = 2020, month = 9, day = 9))\n",
        "print(date.today())\n",
        "\n",
        "today = date.today()\n",
        "year = str(today.year)\n",
        "month = str(today.month)\n",
        "day = str(today.day)\n",
        "weekday = '월화수목금토일'[today.weekday()]\n",
        "print(year + '년', month + '월', day + '일', weekday + '요일')"
      ]
    },
    {
      "cell_type": "markdown",
      "metadata": {
        "id": "MYSooRuLaOym"
      },
      "source": [
        "* 날짜시간 모듈 `datetime`의 `time` 클래스 예제"
      ]
    },
    {
      "cell_type": "code",
      "execution_count": null,
      "metadata": {
        "id": "qSF7YJg_aPHn"
      },
      "outputs": [],
      "source": [
        "from datetime import time\n",
        "print(time)\n",
        "print(time(12, 0))\n",
        "print(12, 30)\n",
        "print(time(16,30,45))\n",
        "print(time(18,00,25, 100000))\n",
        "\n",
        "now = time(20, 40, 15, 20000)\n",
        "hour = str(now.hour)\n",
        "minute = str(now.minute)\n",
        "sec = str(now.second)\n",
        "mec = str(now.microsecond)\n",
        "print(hour + '시', minute + '분', sec + '초', mec + '마이크로초')"
      ]
    },
    {
      "cell_type": "markdown",
      "metadata": {
        "id": "sdtzTp5tlqSb"
      },
      "source": [
        "* 날짜시간 모듈 `datetime`의 `datetime` 클래스 예제\n",
        "* 날짜시간을 문자열로 표현하기 위한 `strftime()` 메소드 예제\n",
        "\n",
        "|표현|설명|\n",
        "|---|---|\n",
        "|%Y|년(YYYY)\n",
        "|%y|년(YY)\n",
        "|%m|월(mm)\n",
        "|%d|일(dd)\n",
        "|%A|요일\n",
        "|%H|시(24)\n",
        "|%I|시(12)\n",
        "|%p|AM, PM\n",
        "|%M|분(MM)\n",
        "|%S|초(SS)\n",
        "|%f|마이크로초\n"
      ]
    },
    {
      "cell_type": "code",
      "execution_count": null,
      "metadata": {},
      "outputs": [],
      "source": [
        "from datetime import datetime\n",
        "print(datetime)\n",
        "print(datetime(2020, 1, 1))\n",
        "print(datetime(2020, 1, 1, 15, 45))\n",
        "print(datetime.now())\n",
        "\n",
        "now = datetime.now()\n",
        "print(now.strftime(\"%Y년 %m월 %d일 %H시 %M분 %s초\"))\n",
        "print(now.strftime('%y/%m/%d %p %l:%M:%s:%f'))"
      ]
    },
    {
      "cell_type": "markdown",
      "metadata": {
        "id": "iE13qouhqEGd"
      },
      "source": [
        "#### [Lab] 태어난지 몇 일이 되었는가?\n",
        "\n",
        "* 태어난지 얼마나 지났는지 계산하기"
      ]
    },
    {
      "cell_type": "code",
      "execution_count": null,
      "metadata": {
        "id": "LvW2SqpYpXex"
      },
      "outputs": [],
      "source": [
        "from datetime import date\n",
        "birthday = date(1998, 3, 9)\n",
        "today = date.today()\n",
        "day = today - birthday\n",
        "print(day.days)"
      ]
    },
    {
      "cell_type": "markdown",
      "metadata": {
        "id": "nl1EYj9c6pTG"
      },
      "source": [
        "### 수학 모듈(math)\n",
        "\n",
        "* 파이썬에서 수학에 필요한 math 모듈 제공\n"
      ]
    },
    {
      "cell_type": "code",
      "execution_count": null,
      "metadata": {
        "id": "iwKRg4ZI6sds"
      },
      "outputs": [],
      "source": [
        "import math\n",
        "print(dir(math))"
      ]
    },
    {
      "cell_type": "markdown",
      "metadata": {},
      "source": [
        "-`math` 모듈 대표 상수\n",
        "|상수|설명|\n",
        "|---|---|\n",
        "|math.pl|원주율\n",
        "|math.e|자연상수\n",
        "|math.inf|무한대\n",
        "\n",
        "- `math` 모듈에서 제공하는 대표함수\n",
        "\n",
        "|함수|설명|\n",
        "|---|---|\n",
        "|math.factorial(x)|x의 팩토리얼\n",
        "|math.gcd(a, b)|a와 b의 최대공약수\n",
        "|math.floor(x)|x의 내림값\n",
        "|math.ceil(x)|x의 올림값\n",
        "|math.pow(x, y)|x의 y제곱\n",
        "|math.sqrt(x)|x의 제곱근\n",
        "|math.log(x, base)|base를 밑으로 하는 x로그\n",
        "|math.sin(x)|x 라디안의 사인\n",
        "|math.cos(x)|x 라디안의 코사인\n",
        "|math.tan(x)|x 라디아의 탄젠트\n",
        "|math.degrees(x)|x 라디안을 도 단위로 변한\n",
        "|math.radians(x)|x 도를 라디안 단위로 변환"
      ]
    },
    {
      "cell_type": "code",
      "execution_count": null,
      "metadata": {
        "id": "d3mmKmFiswty"
      },
      "outputs": [],
      "source": [
        "import math\n",
        "print(math.factorial(3))\n",
        "print(math.gcd(12, 24))\n",
        "print(math.floor(math.pi))\n",
        "print(math.ceil(math.pi))\n",
        "print(math.pow(2,10))\n",
        "print(math.sqrt(10))\n",
        "print(math.log(10, 2))\n",
        "print(math.degrees(math.pi))\n",
        "print(math.radians(180))\n",
        "print(math.sin(math.radians(90)))\n",
        "print(math.cos(math.radians(180)))"
      ]
    },
    {
      "cell_type": "markdown",
      "metadata": {
        "id": "iAbuv-GxzRH0"
      },
      "source": [
        "### 순열과 조합 모듈(itertools)\n",
        "\n",
        "* `itertools` 모듈에서 곱집합, 순열, 조합 등을 구하는 함수 제공\n",
        "\n",
        "|함수|설명|\n",
        "|---|---|\n",
        "|itertools.product(seq1, ...) |시퀀스의 곱집합\n",
        "|itertools.permutations(p,r)| p 시퀀스의 요소 r개를 나열하는 순열\n",
        "|itertools.combinations(p,r)| p 시퀀스의 요소 r개를 선택하는 조합\n",
        "|itertools.combinations_with_replacement(p,r)| p 시퀀스 요소 r개를 중복 허요해 선택하는 조합"
      ]
    },
    {
      "cell_type": "code",
      "execution_count": null,
      "metadata": {
        "id": "fG_PztCsz4xk"
      },
      "outputs": [],
      "source": [
        "import itertools\n",
        "list_1 = ['a','b','c']\n",
        "print(list_1)\n",
        "\n",
        "list_2 = [1,2]\n",
        "print(list_2)\n",
        "\n",
        "list_cp = list(itertools.product(list_1,list_2))\n",
        "print(list_cp)\n",
        "\n",
        "list_p = list(itertools.permutations(list_1, 2))\n",
        "print(list_p)\n",
        "\n",
        "list_c = list(itertools.combinations(list_1, 2))\n",
        "print(list_c)\n",
        "\n",
        "list_cr = list(itertools.combinations_with_replacement(list_1, 2))\n",
        "print(list_cr)\n"
      ]
    },
    {
      "cell_type": "markdown",
      "metadata": {
        "id": "UNlrNquK2eMg"
      },
      "source": [
        "### 통계 모듈(statistics)\n",
        "\n",
        "\n",
        "* `statistics` 모듈에서는 산술평균, 표준편차 등 통계에 필요한 계산 관련 함수들을 제공\n",
        "\n",
        "|함수|설명|\n",
        "|---|---|\n",
        "|statistics.median(seq)|시퀀스의 중앙값\n",
        "|statistics.mean(seq)|시퀀스의 산술 평균\n",
        "|statistics. harmonic_mean(seq)|시퀀스의 조화 평균\n",
        "|statistics. stdev(seq)|시퀀스의 표본 표준편차\n",
        "|statistics. variance(seq)|시퀀스의 표본 분산"
      ]
    },
    {
      "cell_type": "code",
      "execution_count": null,
      "metadata": {
        "id": "sqQiNW-k21XJ"
      },
      "outputs": [],
      "source": [
        "import statistics\n",
        "values = [23,3234,52,42,214,64,2,78,876,4,435,233,47,45,32,2,33,2,2]\n",
        "print(statistics.median(values))\n",
        "print(statistics.mean(values))\n",
        "print(statistics.harmonic_mean(values))\n",
        "print(statistics.stdev(values))\n",
        "print(statistics.variance(values))\n"
      ]
    },
    {
      "cell_type": "markdown",
      "metadata": {
        "id": "nwW2LgNc67u3"
      },
      "source": [
        "### 랜덤 모듈(random)\n",
        "\n",
        "* 랜덤 모듈을 사용하기 위해서는 `import random` 필요\n",
        "    - `random.random()`: 0.0 ~ 1.0 미만의 실수값 반환\n",
        "    - `random.randint(0, 10)`: 0.0 ~ 10 사이의 정수 반환\n",
        "    - `random.randrange(3, 10, 2)`: 0 ~ 10미만의 수 중에서, 3과 3에서 2를 더한 수 중에서 무작위로 1개 반환\n",
        "    - `random.choice()`: 자료형 변수에서 임의의 값 반환\n",
        "    - `random.sample())`: 자료형 변수에서 필요한 개수만큼 반환\n",
        "    - `random.shuffle()`: 자료형 변수 내용을 랜덤으로 셔플"
      ]
    },
    {
      "cell_type": "code",
      "execution_count": null,
      "metadata": {
        "id": "PuAbFRsa7IUH"
      },
      "outputs": [],
      "source": [
        "import random\n",
        "print(random.random())\n",
        "print(random.randint(1, 10))\n",
        "print(random.randrange(0, 10, 2))"
      ]
    },
    {
      "cell_type": "code",
      "execution_count": null,
      "metadata": {
        "id": "aDz_82bc7qJx"
      },
      "outputs": [],
      "source": [
        "li = [2,324,543,2,32,3,43,2345,2,23,12323,12]\n",
        "print(li)\n",
        "random.shuffle(li)\n",
        "print(li)\n",
        "\n",
        "print(random.choice(li))\n",
        "print(random.sample(li, 2))\n"
      ]
    },
    {
      "cell_type": "markdown",
      "metadata": {
        "id": "RFMGmK8r79zv"
      },
      "source": [
        "### 네임스페이스(Namespace)\n",
        "\n",
        "* 모듈 호출의 범위 지정\n",
        "* 모듈 이름에 alias를 생성하여 모듈의 이름을 바꿔 사용"
      ]
    },
    {
      "cell_type": "code",
      "execution_count": null,
      "metadata": {
        "id": "OmY9T8g68M5J"
      },
      "outputs": [],
      "source": [
        "import random as rd\n",
        "\n",
        "print(rd.random())\n",
        "print(rd.randrange(0,10,2))"
      ]
    },
    {
      "cell_type": "markdown",
      "metadata": {
        "id": "ijyblqrg8NfX"
      },
      "source": [
        "* from 구문을 사용하여 모듈에서 특정 함수 또는 클래스만 호출"
      ]
    },
    {
      "cell_type": "code",
      "execution_count": null,
      "metadata": {
        "id": "YwkdUeaL8PeK"
      },
      "outputs": [],
      "source": [
        "from random import random, randrange\n",
        "# 또는 from random import *도 가능\n",
        "\n",
        "print(random())\n",
        "print(randrange(0,10,2))"
      ]
    },
    {
      "cell_type": "markdown",
      "metadata": {
        "id": "6jIH8CcK8P9Q"
      },
      "source": [
        "* '*'을 사용하여 모듈 안에 모든 함수, 클래스, 변수를 가져옴"
      ]
    },
    {
      "cell_type": "code",
      "execution_count": null,
      "metadata": {
        "id": "NdCD7wxF8Rpj"
      },
      "outputs": [],
      "source": []
    },
    {
      "cell_type": "markdown",
      "metadata": {
        "id": "qQc_0nwV1YyE"
      },
      "source": [
        "## 패키지(Packages)\n",
        "\n",
        "- 패키지는 모듈의 집합\n",
        "- 패키지 안에 여러 모듈이 존재\n",
        "- 모듈을 주제별로 분리할 떄 사용\n",
        "- 디렉터리와 같이 계층적인 구조로 관리\n",
        "- 모듈들이 서로 포함 관계를 가지며 거대한 패키지를 가짐\n",
        "- 파이썬에서는 패키지가 하나의 라이브러리"
      ]
    },
    {
      "cell_type": "code",
      "execution_count": null,
      "metadata": {
        "id": "jekuqE1NI0mJ"
      },
      "outputs": [],
      "source": [
        "!mkdir package\n",
        "!mkdir package/sub_package_1\n",
        "!mkdir package/sub_package_2\n",
        "!mkdir package/sub_package_3"
      ]
    },
    {
      "cell_type": "code",
      "execution_count": null,
      "metadata": {
        "id": "bPz0apRgJSJ-"
      },
      "outputs": [],
      "source": [
        "!ls package"
      ]
    },
    {
      "cell_type": "code",
      "execution_count": null,
      "metadata": {
        "id": "Z39w6vP1Jnuu"
      },
      "outputs": [],
      "source": [
        "\n",
        "%%writefile package/sub_package_1/sub1_module_1.py\n",
        "def print_module():\n",
        "    print('sub_package_1/sub1_module_1')"
      ]
    },
    {
      "cell_type": "code",
      "execution_count": null,
      "metadata": {
        "id": "6U6AkKypKILn"
      },
      "outputs": [],
      "source": [
        "\n",
        "%%writefile package/sub_package_1/sub1_module_2.py\n",
        "def print_module():\n",
        "    print('sub_package_1/sub1_module_2')"
      ]
    },
    {
      "cell_type": "code",
      "execution_count": null,
      "metadata": {
        "id": "RSuJJKzvKKx6"
      },
      "outputs": [],
      "source": [
        "\n",
        "%%writefile package/sub_package_2/sub2_module_1.py\n",
        "def print_module():\n",
        "    print('sub_package_2/sub2_module_1')"
      ]
    },
    {
      "cell_type": "code",
      "execution_count": null,
      "metadata": {
        "id": "BhqpvBAXKNGo"
      },
      "outputs": [],
      "source": [
        "\n",
        "%%writefile package/sub_package_2/sub2_module_2.py\n",
        "def print_module():\n",
        "    print('sub_package_2/sub2_module_2')"
      ]
    },
    {
      "cell_type": "code",
      "execution_count": null,
      "metadata": {
        "id": "mRe1x_7XKORQ"
      },
      "outputs": [],
      "source": [
        "\n",
        "%%writefile package/sub_package_3/sub3_module_1.py\n",
        "def print_module():\n",
        "    print('sub_package_3/sub3_module_1')"
      ]
    },
    {
      "cell_type": "code",
      "execution_count": 33,
      "metadata": {
        "id": "8kQUk7O0KP3w"
      },
      "outputs": [
        {
          "name": "stdout",
          "output_type": "stream",
          "text": [
            "Overwriting package/sub_package_3/sub3_module_2.py\n"
          ]
        }
      ],
      "source": [
        "\n",
        "%%writefile package/sub_package_3/sub3_module_2.py\n",
        "def print_module():\n",
        "    print('sub_package_3/sub3_module_2')"
      ]
    },
    {
      "cell_type": "markdown",
      "metadata": {
        "id": "wljVmXlNIrvv"
      },
      "source": [
        "### 패키지 실행\n",
        "\n",
        "* 정의한 패키지의 모듈 실행"
      ]
    },
    {
      "cell_type": "code",
      "execution_count": 34,
      "metadata": {
        "id": "3yew_JCLMsp7"
      },
      "outputs": [
        {
          "name": "stdout",
          "output_type": "stream",
          "text": [
            "sub_package_1/sub1_module_1\n",
            "sub_package_1/sub1_module_2\n"
          ]
        }
      ],
      "source": [
        "from package.sub_package_1 import sub1_module_1, sub1_module_2\n",
        "sub1_module_1.print_module()\n",
        "sub1_module_2.print_module()"
      ]
    },
    {
      "cell_type": "code",
      "execution_count": 35,
      "metadata": {
        "id": "vkRbKEa8NOmh"
      },
      "outputs": [
        {
          "name": "stdout",
          "output_type": "stream",
          "text": [
            "sub_package_2/sub2_module_1\n",
            "sub_package_2/sub2_module_2\n"
          ]
        }
      ],
      "source": [
        "from package.sub_package_2 import sub2_module_1, sub2_module_2\n",
        "sub2_module_1.print_module()\n",
        "sub2_module_2.print_module()"
      ]
    },
    {
      "cell_type": "code",
      "execution_count": 36,
      "metadata": {
        "id": "3d0daVmONRBT"
      },
      "outputs": [
        {
          "name": "stdout",
          "output_type": "stream",
          "text": [
            "sub_package_3/sub3_module_1\n",
            "sub_package_3/sub3_module_2\n"
          ]
        }
      ],
      "source": [
        "from package.sub_package_3 import sub3_module_1, sub3_module_2\n",
        "sub3_module_1.print_module()\n",
        "sub3_module_2.print_module()"
      ]
    },
    {
      "cell_type": "code",
      "execution_count": 37,
      "metadata": {
        "id": "Dy0EJOccNrrS"
      },
      "outputs": [
        {
          "name": "stdout",
          "output_type": "stream",
          "text": [
            "sub_package_1/sub1_module_1\n",
            "sub_package_1/sub1_module_2\n",
            "sub_package_2/sub2_module_1\n",
            "sub_package_2/sub2_module_2\n",
            "sub_package_3/sub3_module_1\n",
            "sub_package_3/sub3_module_2\n"
          ]
        }
      ],
      "source": [
        "from package import *\n",
        "sub1_module_1.print_module()\n",
        "sub1_module_2.print_module()\n",
        "sub2_module_1.print_module()\n",
        "sub2_module_2.print_module()\n",
        "sub3_module_1.print_module()\n",
        "sub3_module_2.print_module()"
      ]
    },
    {
      "cell_type": "markdown",
      "metadata": {
        "id": "CrmBC32pe2Ag"
      },
      "source": [
        "### 패키지 구성 파일\n",
        "\n",
        "* \\_\\_init\\_\\_.py\n",
        "    - 파이썬 패키지를 선언하는 초기화 스크립트\n",
        "    - 패키지에 대한 메타데이터에 해당하는 내용 포함\n",
        "    - 파이썬의 거의 모든 라이브러리에 포함\n",
        "    - 파이썬 버전 3.3부터는 __init__.py파일이 없어도 패키지로 인식\n",
        "    - 파이썬 버전 3.3 밑의 하위 버전과 ㅎ호ㅘㄴ을 위해 __init__.py 파일 생성\n",
        "    - __all__이라는 리스트형의 변수에 하위 패키지의 이름을 작성\n",
        "    - `__all__ = ['sub_package_1', 'sub_package_2', 'sub_package_3']`"
      ]
    },
    {
      "cell_type": "code",
      "execution_count": 38,
      "metadata": {
        "id": "S80DN-P9IYKw"
      },
      "outputs": [
        {
          "name": "stdout",
          "output_type": "stream",
          "text": [
            "Writing package/__init__.py\n"
          ]
        }
      ],
      "source": [
        "%%writefile package/__init__.py\n",
        "__all__ = ['sub_package_1', 'sub_package_2', 'sub_package_3']"
      ]
    },
    {
      "cell_type": "code",
      "execution_count": 39,
      "metadata": {
        "id": "T_Lv285gPt_4"
      },
      "outputs": [
        {
          "name": "stdout",
          "output_type": "stream",
          "text": [
            "Writing package/sub_package_1/__init__.py\n"
          ]
        }
      ],
      "source": [
        "%%writefile package/sub_package_1/__init__.py\n",
        "__all__ = ['sub1_module_1', 'sub1_module_2']"
      ]
    },
    {
      "cell_type": "code",
      "execution_count": 40,
      "metadata": {
        "id": "MWb5eNCAP56o"
      },
      "outputs": [
        {
          "name": "stdout",
          "output_type": "stream",
          "text": [
            "Writing package/sub_package_2/__init__.py\n"
          ]
        }
      ],
      "source": [
        "%%writefile package/sub_package_2/__init__.py\n",
        "__all__ = ['sub2_module_1', 'sub2_module_2']"
      ]
    },
    {
      "cell_type": "code",
      "execution_count": 41,
      "metadata": {
        "id": "EvYOqe0KP6de"
      },
      "outputs": [
        {
          "name": "stdout",
          "output_type": "stream",
          "text": [
            "Writing package/sub_package_3/__init__.py\n"
          ]
        }
      ],
      "source": [
        "%%writefile package/sub_package_3/__init__.py\n",
        "__all__ = ['sub3_module_1', 'sub3_module_2']"
      ]
    },
    {
      "cell_type": "code",
      "execution_count": 42,
      "metadata": {
        "id": "t47pORCoP_Ks"
      },
      "outputs": [
        {
          "name": "stdout",
          "output_type": "stream",
          "text": [
            "__init__.py   \u001b[34msub_package_1\u001b[m\u001b[m \u001b[34msub_package_2\u001b[m\u001b[m \u001b[34msub_package_3\u001b[m\u001b[m\n"
          ]
        }
      ],
      "source": [
        "!ls package"
      ]
    },
    {
      "cell_type": "code",
      "execution_count": 43,
      "metadata": {
        "id": "FygAt2laQDes"
      },
      "outputs": [
        {
          "name": "stdout",
          "output_type": "stream",
          "text": [
            "__init__.py      \u001b[34m__pycache__\u001b[m\u001b[m      sub1_module_1.py sub1_module_2.py\n"
          ]
        }
      ],
      "source": [
        "!ls package/sub_package_1"
      ]
    },
    {
      "cell_type": "code",
      "execution_count": 44,
      "metadata": {},
      "outputs": [
        {
          "name": "stdout",
          "output_type": "stream",
          "text": [
            "__init__.py      \u001b[34m__pycache__\u001b[m\u001b[m      sub2_module_1.py sub2_module_2.py\n"
          ]
        }
      ],
      "source": [
        "!ls package/sub_package_2"
      ]
    },
    {
      "cell_type": "code",
      "execution_count": 45,
      "metadata": {},
      "outputs": [
        {
          "name": "stdout",
          "output_type": "stream",
          "text": [
            "__init__.py      \u001b[34m__pycache__\u001b[m\u001b[m      sub3_module_1.py sub3_module_2.py\n"
          ]
        }
      ],
      "source": [
        "!ls package/sub_package_3"
      ]
    },
    {
      "cell_type": "markdown",
      "metadata": {
        "id": "ErE9_A3uPcAJ"
      },
      "source": [
        "\n",
        "* \\_\\_main\\_\\_.py\n",
        "  + 패키지 자체를 실행하기 위한 용도\n",
        "  + 패키지를 실행시키면 \\_\\_main\\_\\_.py 실행"
      ]
    },
    {
      "cell_type": "code",
      "execution_count": 47,
      "metadata": {
        "id": "_leUWfUDNTQZ"
      },
      "outputs": [
        {
          "name": "stdout",
          "output_type": "stream",
          "text": [
            "Writing package/__main__.py\n"
          ]
        }
      ],
      "source": [
        "%%writefile package/__main__.py\n",
        "from sub_package_1 import *\n",
        "from sub_package_2 import *\n",
        "from sub_package_3 import *\n",
        "\n",
        "if __name__ == \"__main__\":\n",
        "    sub1_module_1.print_module()\n",
        "    sub1_module_2.print_module()\n",
        "    \n",
        "    sub2_module_1.print_module()\n",
        "    sub2_module_2.print_module()\n",
        "    \n",
        "    sub3_module_1.print_module()\n",
        "    sub3_module_2.print_module()"
      ]
    },
    {
      "cell_type": "code",
      "execution_count": 48,
      "metadata": {
        "id": "jl-y2mT6OTb9"
      },
      "outputs": [
        {
          "name": "stdout",
          "output_type": "stream",
          "text": [
            "sub_package_1/sub1_module_1\n",
            "sub_package_1/sub1_module_2\n",
            "sub_package_2/sub2_module_1\n",
            "sub_package_2/sub2_module_2\n",
            "sub_package_3/sub3_module_1\n",
            "sub_package_3/sub3_module_2\n"
          ]
        }
      ],
      "source": [
        "!python package"
      ]
    },
    {
      "cell_type": "markdown",
      "metadata": {
        "id": "H5rv_z4nZg3v"
      },
      "source": [
        "\n",
        "\n",
        "---\n",
        "\n"
      ]
    }
  ],
  "metadata": {
    "colab": {
      "collapsed_sections": [],
      "provenance": [],
      "toc_visible": true
    },
    "kernelspec": {
      "display_name": "Python 3.10.5 64-bit",
      "language": "python",
      "name": "python3"
    },
    "language_info": {
      "codemirror_mode": {
        "name": "ipython",
        "version": 3
      },
      "file_extension": ".py",
      "mimetype": "text/x-python",
      "name": "python",
      "nbconvert_exporter": "python",
      "pygments_lexer": "ipython3",
      "version": "3.10.5"
    },
    "vscode": {
      "interpreter": {
        "hash": "aee8b7b246df8f9039afb4144a1f6fd8d2ca17a180786b69acc140d282b71a49"
      }
    }
  },
  "nbformat": 4,
  "nbformat_minor": 0
}
